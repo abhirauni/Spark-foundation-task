{
 "cells": [
  {
   "cell_type": "markdown",
   "id": "3aa69f05-43b4-4430-93de-a259d14a5537",
   "metadata": {
    "tags": []
   },
   "source": [
    "# <center> <font color='green'>GRIP :THE SPARKs FOUNDATION</font></center>"
   ]
  },
  {
   "cell_type": "markdown",
   "id": "7d842d6e-93bf-4946-bdfb-d61ecb7b67cb",
   "metadata": {},
   "source": [
    "# <center> <font color='green'>Data Science and Business Analytics Intern</font></center>"
   ]
  },
  {
   "cell_type": "markdown",
   "id": "477b07a3-e76d-4097-839c-7ea6dced150b",
   "metadata": {},
   "source": [
    "# <center> <font color='green'>Author: ABHISHEK RAUNIYAR</font></center>"
   ]
  },
  {
   "cell_type": "markdown",
   "id": "c0dc8c63-cb0a-4a31-b1d1-0fad0b557223",
   "metadata": {},
   "source": [
    "# <center> <font color='green'>Task (1) :STUDENT MARKS PREDICTION</font></center>\n",
    "In this task we have to precict the percentage score of a student based on the number of hours studied.Basically the task have two variables where the features is the no.of hours studied and the target value is the percentage score. So,here I solved this by Linear regression."
   ]
  },
  {
   "cell_type": "markdown",
   "id": "eb69044c-f494-48b6-958a-c9539baf086b",
   "metadata": {},
   "source": [
    "<center><img src='https://www.parentingforbrain.com/wp-content/uploads/motivate-teenager.jpg'></center>"
   ]
  },
  {
   "cell_type": "markdown",
   "id": "dc516747-a823-420c-bac9-9be93f9379b2",
   "metadata": {},
   "source": [
    "### Table Content\n",
    "1. [Importing Libarires](#import)\n",
    "\n",
    "2. [Reading Data Set](#read)\n",
    "3. [Visualization](#visu)\n",
    "4. [Data-Preparation](#data)\n",
    "5. [Training The Algorithm](#train)\n",
    "6. [Visualizing The Model](#vis2)\n",
    "7. [Making Prediction](#pre)\n",
    "8. [What would be the predicated score if a student studies for 9.25 hours/day?](#score)\n",
    "9. [Checking The Assumption Of Linear Regression](#ass)\n",
    "10. [Model Evaluation](#evl)"
   ]
  },
  {
   "cell_type": "markdown",
   "id": "3fe74143-6dd2-4730-8ffa-243eec4f76e4",
   "metadata": {},
   "source": [
    "# STEP:1 Importing Libraries<a class='anchor' id='import'></a>"
   ]
  },
  {
   "cell_type": "code",
   "execution_count": 1,
   "id": "983dd52b-8141-43ec-bcaa-51f6d3357709",
   "metadata": {
    "tags": []
   },
   "outputs": [],
   "source": [
    "# for handling warnings\n",
    "import warnings\n",
    "warnings.filterwarnings('ignore')\n",
    "\n",
    "## standard libarires\n",
    "import numpy as np\n",
    "import pandas as pd\n",
    "\n",
    "##for visualization\n",
    "import seaborn as sng\n",
    "import matplotlib.pyplot as plt"
   ]
  },
  {
   "cell_type": "markdown",
   "id": "7a1486bf-695c-45ec-892e-db02550b2f1e",
   "metadata": {},
   "source": [
    "# STEP:2 Reading Data Set<a class='anchor' id='read'></a>"
   ]
  },
  {
   "cell_type": "code",
   "execution_count": 2,
   "id": "6cabbeeb-ff07-494b-b043-ace5c8d5bcff",
   "metadata": {
    "tags": []
   },
   "outputs": [
    {
     "data": {
      "text/html": [
       "<div>\n",
       "<style scoped>\n",
       "    .dataframe tbody tr th:only-of-type {\n",
       "        vertical-align: middle;\n",
       "    }\n",
       "\n",
       "    .dataframe tbody tr th {\n",
       "        vertical-align: top;\n",
       "    }\n",
       "\n",
       "    .dataframe thead th {\n",
       "        text-align: right;\n",
       "    }\n",
       "</style>\n",
       "<table border=\"1\" class=\"dataframe\">\n",
       "  <thead>\n",
       "    <tr style=\"text-align: right;\">\n",
       "      <th></th>\n",
       "      <th>Hours</th>\n",
       "      <th>Scores</th>\n",
       "    </tr>\n",
       "  </thead>\n",
       "  <tbody>\n",
       "    <tr>\n",
       "      <th>0</th>\n",
       "      <td>2.5</td>\n",
       "      <td>21</td>\n",
       "    </tr>\n",
       "    <tr>\n",
       "      <th>1</th>\n",
       "      <td>5.1</td>\n",
       "      <td>47</td>\n",
       "    </tr>\n",
       "    <tr>\n",
       "      <th>2</th>\n",
       "      <td>3.2</td>\n",
       "      <td>27</td>\n",
       "    </tr>\n",
       "    <tr>\n",
       "      <th>3</th>\n",
       "      <td>8.5</td>\n",
       "      <td>75</td>\n",
       "    </tr>\n",
       "    <tr>\n",
       "      <th>4</th>\n",
       "      <td>3.5</td>\n",
       "      <td>30</td>\n",
       "    </tr>\n",
       "  </tbody>\n",
       "</table>\n",
       "</div>"
      ],
      "text/plain": [
       "   Hours  Scores\n",
       "0    2.5      21\n",
       "1    5.1      47\n",
       "2    3.2      27\n",
       "3    8.5      75\n",
       "4    3.5      30"
      ]
     },
     "execution_count": 2,
     "metadata": {},
     "output_type": "execute_result"
    }
   ],
   "source": [
    "## Read the data set\n",
    "data=pd.read_csv(\"marks.csv\")\n",
    "data.head()"
   ]
  },
  {
   "cell_type": "code",
   "execution_count": 3,
   "id": "4ece8f75-4857-40e4-8d0f-84d65c5af650",
   "metadata": {
    "tags": []
   },
   "outputs": [
    {
     "name": "stdout",
     "output_type": "stream",
     "text": [
      "Shape of the data-set is: (25, 2)\n"
     ]
    }
   ],
   "source": [
    "### to find the no of rows and column of data set\n",
    "print('Shape of the data-set is:',data.shape)"
   ]
  },
  {
   "cell_type": "code",
   "execution_count": 4,
   "id": "cd1e88bd-2fb8-4c2b-8c08-d84e1c771e9e",
   "metadata": {
    "tags": []
   },
   "outputs": [
    {
     "name": "stdout",
     "output_type": "stream",
     "text": [
      "<class 'pandas.core.frame.DataFrame'>\n",
      "RangeIndex: 25 entries, 0 to 24\n",
      "Data columns (total 2 columns):\n",
      " #   Column  Non-Null Count  Dtype  \n",
      "---  ------  --------------  -----  \n",
      " 0   Hours   25 non-null     float64\n",
      " 1   Scores  25 non-null     int64  \n",
      "dtypes: float64(1), int64(1)\n",
      "memory usage: 532.0 bytes\n"
     ]
    }
   ],
   "source": [
    "# To find  the information of data-set\n",
    "data.info()"
   ]
  },
  {
   "cell_type": "code",
   "execution_count": 5,
   "id": "aa6eada1-6aff-47fa-9a02-a611391c1919",
   "metadata": {
    "tags": []
   },
   "outputs": [
    {
     "data": {
      "text/plain": [
       "Hours     0\n",
       "Scores    0\n",
       "dtype: int64"
      ]
     },
     "execution_count": 5,
     "metadata": {},
     "output_type": "execute_result"
    }
   ],
   "source": [
    "# Checking the null values\n",
    "data.isnull().sum()"
   ]
  },
  {
   "cell_type": "markdown",
   "id": "8ec37bde-1ccb-481d-87cc-c94063b234f3",
   "metadata": {},
   "source": [
    "#### In given data set there is no null value"
   ]
  },
  {
   "cell_type": "markdown",
   "id": "c52dc49a-f351-4a17-832e-fe4ca86899e1",
   "metadata": {},
   "source": [
    "# STEP:3 Visualization<a class='anchor' id='visu'></a>"
   ]
  },
  {
   "cell_type": "code",
   "execution_count": 6,
   "id": "6e2df8e1-cadc-4593-adc1-340e5ff5d560",
   "metadata": {
    "tags": []
   },
   "outputs": [
    {
     "data": {
      "text/plain": [
       "<matplotlib.collections.PathCollection at 0x1e6e6808d50>"
      ]
     },
     "execution_count": 6,
     "metadata": {},
     "output_type": "execute_result"
    },
    {
     "data": {
      "image/png": "[encoded data removed]",
      "text/plain": [
       "<Figure size 640x480 with 1 Axes>"
      ]
     },
     "metadata": {},
     "output_type": "display_data"
    }
   ],
   "source": [
    "plt.scatter(data[\"Hours\"],data[\"Scores\"])"
   ]
  },
  {
   "cell_type": "markdown",
   "id": "34d458f8-37db-44aa-b916-a0fbe436aa30",
   "metadata": {},
   "source": [
    " From the above graph we can observe that there is a linear relation between \"Hours/day\" and score. So we can use the linear regression supervised machine model on it predictt futher values."
   ]
  },
  {
   "cell_type": "code",
   "execution_count": 7,
   "id": "e193aa1b-bf99-4d96-983e-9c4ffe88f76a",
   "metadata": {
    "tags": []
   },
   "outputs": [
    {
     "data": {
      "text/html": [
       "<div>\n",
       "<style scoped>\n",
       "    .dataframe tbody tr th:only-of-type {\n",
       "        vertical-align: middle;\n",
       "    }\n",
       "\n",
       "    .dataframe tbody tr th {\n",
       "        vertical-align: top;\n",
       "    }\n",
       "\n",
       "    .dataframe thead th {\n",
       "        text-align: right;\n",
       "    }\n",
       "</style>\n",
       "<table border=\"1\" class=\"dataframe\">\n",
       "  <thead>\n",
       "    <tr style=\"text-align: right;\">\n",
       "      <th></th>\n",
       "      <th>Hours</th>\n",
       "      <th>Scores</th>\n",
       "    </tr>\n",
       "  </thead>\n",
       "  <tbody>\n",
       "    <tr>\n",
       "      <th>Hours</th>\n",
       "      <td>1.000000</td>\n",
       "      <td>0.976191</td>\n",
       "    </tr>\n",
       "    <tr>\n",
       "      <th>Scores</th>\n",
       "      <td>0.976191</td>\n",
       "      <td>1.000000</td>\n",
       "    </tr>\n",
       "  </tbody>\n",
       "</table>\n",
       "</div>"
      ],
      "text/plain": [
       "           Hours    Scores\n",
       "Hours   1.000000  0.976191\n",
       "Scores  0.976191  1.000000"
      ]
     },
     "execution_count": 7,
     "metadata": {},
     "output_type": "execute_result"
    }
   ],
   "source": [
    "data.corr()"
   ]
  },
  {
   "cell_type": "markdown",
   "id": "6949b7c6-6b93-48fc-8b4f-147c17768345",
   "metadata": {},
   "source": [
    "so the both the variables are positively correlated to each other"
   ]
  },
  {
   "cell_type": "markdown",
   "id": "f61b6f46-13b9-4944-8c6a-b7a1245f0c02",
   "metadata": {},
   "source": [
    "# STEP:4 Data-Preparation<a class='anchor' id='data'></a>"
   ]
  },
  {
   "cell_type": "markdown",
   "id": "f7ddde5d-9730-45af-815d-2de58c593707",
   "metadata": {
    "tags": []
   },
   "source": [
    "HERE WE WILL GOING TO SPLIT THE WHOLE DATA INTO TWO PARTS-TESTING DATA AND TRAINING DATA. SO ,USING iloc function we will divide the data"
   ]
  },
  {
   "cell_type": "code",
   "execution_count": 8,
   "id": "9fd93add-f3d3-4b0f-aca0-c26354497195",
   "metadata": {},
   "outputs": [],
   "source": [
    "x=data.iloc[:,:-1]\n",
    "y=data.iloc[:,-1]\n"
   ]
  },
  {
   "cell_type": "code",
   "execution_count": 9,
   "id": "09363626-f66e-4ae4-a409-e763442db9f7",
   "metadata": {
    "tags": []
   },
   "outputs": [],
   "source": [
    "from sklearn.model_selection import train_test_split\n",
    "x_train,x_test,y_train,y_test=train_test_split(x,y,test_size=0.2,random_state=50)"
   ]
  },
  {
   "cell_type": "code",
   "execution_count": 10,
   "id": "30786af1-a435-494b-88f4-b61a15e6c77e",
   "metadata": {
    "tags": []
   },
   "outputs": [
    {
     "name": "stdout",
     "output_type": "stream",
     "text": [
      "20\n"
     ]
    }
   ],
   "source": [
    "## check the size of traning-input data\n",
    "print(x_train.size)"
   ]
  },
  {
   "cell_type": "code",
   "execution_count": 11,
   "id": "959e7ca1-7387-45f1-9ea4-70b1667aab10",
   "metadata": {
    "tags": []
   },
   "outputs": [
    {
     "name": "stdout",
     "output_type": "stream",
     "text": [
      "5\n"
     ]
    }
   ],
   "source": [
    "## check the size of test-input data\n",
    "print(x_test.size)"
   ]
  },
  {
   "cell_type": "code",
   "execution_count": 12,
   "id": "7da9743e-0eae-4e46-bbe1-3615c16d765d",
   "metadata": {
    "tags": []
   },
   "outputs": [
    {
     "name": "stdout",
     "output_type": "stream",
     "text": [
      "(20,)\n"
     ]
    }
   ],
   "source": [
    "## check the size of traning-output data\n",
    "print(y_train.shape)"
   ]
  },
  {
   "cell_type": "code",
   "execution_count": 13,
   "id": "99703a65-e3d1-41f8-ac65-b2514ecbe294",
   "metadata": {
    "tags": []
   },
   "outputs": [
    {
     "name": "stdout",
     "output_type": "stream",
     "text": [
      "(5,)\n"
     ]
    }
   ],
   "source": [
    "## check the size of test-output data\n",
    "print(y_test.shape)"
   ]
  },
  {
   "cell_type": "markdown",
   "id": "105bdcd2-e7a5-45b1-a1fd-892519f12e5f",
   "metadata": {},
   "source": [
    "# STEP:5 Training The Algorithm<a class='anchor' id='train'></a>"
   ]
  },
  {
   "cell_type": "markdown",
   "id": "7c7ca780-1a63-4b8e-a05a-d6ea1d999af3",
   "metadata": {},
   "source": [
    "WE HAVE SPITTED THE DATA INTO TRAINING AND TESTING SETS,NOW WE WILL TRAIN OUR MODEL"
   ]
  },
  {
   "cell_type": "code",
   "execution_count": 14,
   "id": "be0e14f2-4a3d-4d4f-8f21-fb5c8e9be704",
   "metadata": {
    "tags": []
   },
   "outputs": [
    {
     "data": {
      "text/html": [
       "<style>#sk-container-id-1 {color: black;background-color: white;}#sk-container-id-1 pre{padding: 0;}#sk-container-id-1 div.sk-toggleable {background-color: white;}#sk-container-id-1 label.sk-toggleable__label {cursor: pointer;display: block;width: 100%;margin-bottom: 0;padding: 0.3em;box-sizing: border-box;text-align: center;}#sk-container-id-1 label.sk-toggleable__label-arrow:before {content: \"▸\";float: left;margin-right: 0.25em;color: #696969;}#sk-container-id-1 label.sk-toggleable__label-arrow:hover:before {color: black;}#sk-container-id-1 div.sk-estimator:hover label.sk-toggleable__label-arrow:before {color: black;}#sk-container-id-1 div.sk-toggleable__content {max-height: 0;max-width: 0;overflow: hidden;text-align: left;background-color: #f0f8ff;}#sk-container-id-1 div.sk-toggleable__content pre {margin: 0.2em;color: black;border-radius: 0.25em;background-color: #f0f8ff;}#sk-container-id-1 input.sk-toggleable__control:checked~div.sk-toggleable__content {max-height: 200px;max-width: 100%;overflow: auto;}#sk-container-id-1 input.sk-toggleable__control:checked~label.sk-toggleable__label-arrow:before {content: \"▾\";}#sk-container-id-1 div.sk-estimator input.sk-toggleable__control:checked~label.sk-toggleable__label {background-color: #d4ebff;}#sk-container-id-1 div.sk-label input.sk-toggleable__control:checked~label.sk-toggleable__label {background-color: #d4ebff;}#sk-container-id-1 input.sk-hidden--visually {border: 0;clip: rect(1px 1px 1px 1px);clip: rect(1px, 1px, 1px, 1px);height: 1px;margin: -1px;overflow: hidden;padding: 0;position: absolute;width: 1px;}#sk-container-id-1 div.sk-estimator {font-family: monospace;background-color: #f0f8ff;border: 1px dotted black;border-radius: 0.25em;box-sizing: border-box;margin-bottom: 0.5em;}#sk-container-id-1 div.sk-estimator:hover {background-color: #d4ebff;}#sk-container-id-1 div.sk-parallel-item::after {content: \"\";width: 100%;border-bottom: 1px solid gray;flex-grow: 1;}#sk-container-id-1 div.sk-label:hover label.sk-toggleable__label {background-color: #d4ebff;}#sk-container-id-1 div.sk-serial::before {content: \"\";position: absolute;border-left: 1px solid gray;box-sizing: border-box;top: 0;bottom: 0;left: 50%;z-index: 0;}#sk-container-id-1 div.sk-serial {display: flex;flex-direction: column;align-items: center;background-color: white;padding-right: 0.2em;padding-left: 0.2em;position: relative;}#sk-container-id-1 div.sk-item {position: relative;z-index: 1;}#sk-container-id-1 div.sk-parallel {display: flex;align-items: stretch;justify-content: center;background-color: white;position: relative;}#sk-container-id-1 div.sk-item::before, #sk-container-id-1 div.sk-parallel-item::before {content: \"\";position: absolute;border-left: 1px solid gray;box-sizing: border-box;top: 0;bottom: 0;left: 50%;z-index: -1;}#sk-container-id-1 div.sk-parallel-item {display: flex;flex-direction: column;z-index: 1;position: relative;background-color: white;}#sk-container-id-1 div.sk-parallel-item:first-child::after {align-self: flex-end;width: 50%;}#sk-container-id-1 div.sk-parallel-item:last-child::after {align-self: flex-start;width: 50%;}#sk-container-id-1 div.sk-parallel-item:only-child::after {width: 0;}#sk-container-id-1 div.sk-dashed-wrapped {border: 1px dashed gray;margin: 0 0.4em 0.5em 0.4em;box-sizing: border-box;padding-bottom: 0.4em;background-color: white;}#sk-container-id-1 div.sk-label label {font-family: monospace;font-weight: bold;display: inline-block;line-height: 1.2em;}#sk-container-id-1 div.sk-label-container {text-align: center;}#sk-container-id-1 div.sk-container {/* jupyter's `normalize.less` sets `[hidden] { display: none; }` but bootstrap.min.css set `[hidden] { display: none !important; }` so we also need the `!important` here to be able to override the default hidden behavior on the sphinx rendered scikit-learn.org. See: https://github.com/scikit-learn/scikit-learn/issues/21755 */display: inline-block !important;position: relative;}#sk-container-id-1 div.sk-text-repr-fallback {display: none;}</style><div id=\"sk-container-id-1\" class=\"sk-top-container\"><div class=\"sk-text-repr-fallback\"><pre>LinearRegression()</pre><b>In a Jupyter environment, please rerun this cell to show the HTML representation or trust the notebook. <br />On GitHub, the HTML representation is unable to render, please try loading this page with nbviewer.org.</b></div><div class=\"sk-container\" hidden><div class=\"sk-item\"><div class=\"sk-estimator sk-toggleable\"><input class=\"sk-toggleable__control sk-hidden--visually\" id=\"sk-estimator-id-1\" type=\"checkbox\" checked><label for=\"sk-estimator-id-1\" class=\"sk-toggleable__label sk-toggleable__label-arrow\">LinearRegression</label><div class=\"sk-toggleable__content\"><pre>LinearRegression()</pre></div></div></div></div></div>"
      ],
      "text/plain": [
       "LinearRegression()"
      ]
     },
     "execution_count": 14,
     "metadata": {},
     "output_type": "execute_result"
    }
   ],
   "source": [
    "from sklearn.linear_model import LinearRegression\n",
    "lr=LinearRegression()\n",
    "lr.fit(x_train,y_train)"
   ]
  },
  {
   "cell_type": "markdown",
   "id": "d3957d67-db81-4560-af1b-27077e5820de",
   "metadata": {},
   "source": [
    "# STEP:6 Visualizing The Model<a class='anchor' id='vis2'></a>"
   ]
  },
  {
   "cell_type": "markdown",
   "id": "89c846ac-c106-4c0b-b27c-d59780bb97dc",
   "metadata": {},
   "source": [
    "AFTER TRAINING THE MODEL,NOW IT'S TIME TO VISUALIZE IT."
   ]
  },
  {
   "cell_type": "code",
   "execution_count": 15,
   "id": "fd9abc77-07d6-454c-a21b-2497bbae56d1",
   "metadata": {
    "tags": []
   },
   "outputs": [
    {
     "data": {
      "text/plain": [
       "[<matplotlib.lines.Line2D at 0x1e6d3b62650>]"
      ]
     },
     "execution_count": 15,
     "metadata": {},
     "output_type": "execute_result"
    },
    {
     "data": {
      "image/png": "[encoded data removed]",
      "text/plain": [
       "<Figure size 640x480 with 1 Axes>"
      ]
     },
     "metadata": {},
     "output_type": "display_data"
    }
   ],
   "source": [
    "plt.scatter(data[\"Hours\"],data[\"Scores\"])\n",
    "y_value=lr.coef_*x+lr.intercept_\n",
    "plt.plot(x,y_value)"
   ]
  },
  {
   "cell_type": "markdown",
   "id": "a93f57bb-a51a-4418-996a-1d4385477909",
   "metadata": {},
   "source": [
    "# STEP:7 Making Prediction<a class='anchor' id='pre'></a>"
   ]
  },
  {
   "cell_type": "code",
   "execution_count": 16,
   "id": "6bd67335-8360-461c-a077-1d2b630e53ea",
   "metadata": {
    "tags": []
   },
   "outputs": [],
   "source": [
    "pred=lr.predict(x_test)\n"
   ]
  },
  {
   "cell_type": "code",
   "execution_count": 17,
   "id": "12c37113-e154-4432-aa73-125dff37f87f",
   "metadata": {
    "tags": []
   },
   "outputs": [
    {
     "data": {
      "text/html": [
       "<div>\n",
       "<style scoped>\n",
       "    .dataframe tbody tr th:only-of-type {\n",
       "        vertical-align: middle;\n",
       "    }\n",
       "\n",
       "    .dataframe tbody tr th {\n",
       "        vertical-align: top;\n",
       "    }\n",
       "\n",
       "    .dataframe thead th {\n",
       "        text-align: right;\n",
       "    }\n",
       "</style>\n",
       "<table border=\"1\" class=\"dataframe\">\n",
       "  <thead>\n",
       "    <tr style=\"text-align: right;\">\n",
       "      <th></th>\n",
       "      <th>Target</th>\n",
       "      <th>Predicted</th>\n",
       "    </tr>\n",
       "  </thead>\n",
       "  <tbody>\n",
       "    <tr>\n",
       "      <th>15</th>\n",
       "      <td>95</td>\n",
       "      <td>88.211394</td>\n",
       "    </tr>\n",
       "    <tr>\n",
       "      <th>20</th>\n",
       "      <td>30</td>\n",
       "      <td>28.718453</td>\n",
       "    </tr>\n",
       "    <tr>\n",
       "      <th>23</th>\n",
       "      <td>76</td>\n",
       "      <td>69.020122</td>\n",
       "    </tr>\n",
       "    <tr>\n",
       "      <th>22</th>\n",
       "      <td>35</td>\n",
       "      <td>39.273652</td>\n",
       "    </tr>\n",
       "    <tr>\n",
       "      <th>14</th>\n",
       "      <td>17</td>\n",
       "      <td>13.365436</td>\n",
       "    </tr>\n",
       "  </tbody>\n",
       "</table>\n",
       "</div>"
      ],
      "text/plain": [
       "    Target  Predicted\n",
       "15      95  88.211394\n",
       "20      30  28.718453\n",
       "23      76  69.020122\n",
       "22      35  39.273652\n",
       "14      17  13.365436"
      ]
     },
     "execution_count": 17,
     "metadata": {},
     "output_type": "execute_result"
    }
   ],
   "source": [
    "actual_predicted=pd.DataFrame({'Target':y_test,'Predicted':pred})\n",
    "actual_predicted"
   ]
  },
  {
   "cell_type": "markdown",
   "id": "1d6bb2ce-ca57-4b49-b1a7-633aa5df0613",
   "metadata": {},
   "source": [
    "# STEP:8 What would be the predicated score if a student studies for 9.25 hours/day?<a class='anchor' id='score'></a>"
   ]
  },
  {
   "cell_type": "code",
   "execution_count": 18,
   "id": "107ebcce-8789-44ec-a381-0059116ce355",
   "metadata": {
    "tags": []
   },
   "outputs": [
    {
     "data": {
      "text/plain": [
       "2.810236462826552"
      ]
     },
     "execution_count": 18,
     "metadata": {},
     "output_type": "execute_result"
    }
   ],
   "source": [
    "### intercept made by line\n",
    "lr.intercept_"
   ]
  },
  {
   "cell_type": "code",
   "execution_count": 19,
   "id": "7822bc01-b59c-4c98-8d32-e438b1d1c38e",
   "metadata": {
    "tags": []
   },
   "outputs": [
    {
     "data": {
      "text/plain": [
       "array([9.59563563])"
      ]
     },
     "execution_count": 19,
     "metadata": {},
     "output_type": "execute_result"
    }
   ],
   "source": [
    "### slope of the line\n",
    "lr.coef_"
   ]
  },
  {
   "cell_type": "code",
   "execution_count": 20,
   "id": "bdb82069-4b3b-48a4-8d4d-99d9d35ea3bf",
   "metadata": {
    "tags": []
   },
   "outputs": [
    {
     "name": "stdout",
     "output_type": "stream",
     "text": [
      "If a student studies for 9.25 hours per day he /she will score [91.56986604]% in exam.\n"
     ]
    }
   ],
   "source": [
    "h=9.25\n",
    "a=lr.coef_*h+lr.intercept_\n",
    "print(\"If a student studies for {} hours per day he /she will score {}% in exam.\".format(h,a))"
   ]
  },
  {
   "cell_type": "markdown",
   "id": "880d4855-9470-40fc-b4b0-ebe15ef5d066",
   "metadata": {},
   "source": [
    "# STEP:9 Checking the assumption of linear regression<a class='anchor' id='ass'></a>"
   ]
  },
  {
   "cell_type": "code",
   "execution_count": 21,
   "id": "9b767891-e902-4d1e-8163-42f97f2d7537",
   "metadata": {},
   "outputs": [
    {
     "data": {
      "text/plain": [
       "<matplotlib.collections.PathCollection at 0x1e6e967c310>"
      ]
     },
     "execution_count": 21,
     "metadata": {},
     "output_type": "execute_result"
    },
    {
     "data": {
      "image/png": "[encoded data removed]",
      "text/plain": [
       "<Figure size 640x480 with 1 Axes>"
      ]
     },
     "metadata": {},
     "output_type": "display_data"
    }
   ],
   "source": [
    "plt.scatter(pred,pred-y_test)"
   ]
  },
  {
   "cell_type": "markdown",
   "id": "7061c0ea-9fa8-4d1d-94fe-6af701dcd9b5",
   "metadata": {},
   "source": [
    "Here we get random plot between predicted value and error which satisfy  assumption of linear Regression."
   ]
  },
  {
   "cell_type": "code",
   "execution_count": 22,
   "id": "9f4cf02b-2457-4ea5-97e3-d5b6bd9ab305",
   "metadata": {
    "tags": []
   },
   "outputs": [
    {
     "data": {
      "text/plain": [
       "<Axes: xlabel='Scores', ylabel='Density'>"
      ]
     },
     "execution_count": 22,
     "metadata": {},
     "output_type": "execute_result"
    },
    {
     "data": {
      "image/png": "[encoded data removed]",
      "text/plain": [
       "<Figure size 640x480 with 1 Axes>"
      ]
     },
     "metadata": {},
     "output_type": "display_data"
    }
   ],
   "source": [
    "sng.distplot(pred-y_test)"
   ]
  },
  {
   "cell_type": "markdown",
   "id": "b29d7dcc-ba99-4297-b603-f790c1f33db6",
   "metadata": {
    "tags": []
   },
   "source": [
    "Here we get nearly normal distribution curve of error which satisfy assumption of linear Regression."
   ]
  },
  {
   "cell_type": "markdown",
   "id": "4c14a84d-bb85-4071-96ce-0cc3832d42dc",
   "metadata": {},
   "source": [
    "# STEP:10 Model Evaluation<a class='anchor' id='evl'></a>"
   ]
  },
  {
   "cell_type": "code",
   "execution_count": 23,
   "id": "9790a6e4-997a-4009-984d-dec6418135e8",
   "metadata": {
    "tags": []
   },
   "outputs": [
    {
     "name": "stdout",
     "output_type": "stream",
     "text": [
      "MEAN ABSOLUTE ERROR :- 4.5916495300630285\n",
      "MEAN SQUARED ERROR :- 25.584078296539932\n",
      "R2_SCORE :- 0.971014141329942\n"
     ]
    }
   ],
   "source": [
    "### Evaluate mean absolute error\n",
    "from sklearn.metrics import mean_absolute_error\n",
    "error=mean_absolute_error(y_test,pred)\n",
    "print('MEAN ABSOLUTE ERROR :-',error)\n",
    "\n",
    "### Evaluate squared error\n",
    "from sklearn.metrics import mean_squared_error\n",
    "error=mean_squared_error(y_test,pred)\n",
    "print('MEAN SQUARED ERROR :-',error)\n",
    "\n",
    "\n",
    "### Evaluate r2_score\n",
    "from sklearn.metrics import r2_score\n",
    "r2_score=r2_score(y_test,pred)\n",
    "print('R2_SCORE :-',r2_score)"
   ]
  },
  {
   "cell_type": "code",
   "execution_count": null,
   "id": "d50e8bef-207f-497e-a864-2b6463b982fc",
   "metadata": {},
   "outputs": [],
   "source": []
  }
 ],
 "metadata": {
  "kernelspec": {
   "display_name": "Python 3 (ipykernel)",
   "language": "python",
   "name": "python3"
  },
  "language_info": {
   "codemirror_mode": {
    "name": "ipython",
    "version": 3
   },
   "file_extension": ".py",
   "mimetype": "text/x-python",
   "name": "python",
   "nbconvert_exporter": "python",
   "pygments_lexer": "ipython3",
   "version": "3.11.3"
  }
 },
 "nbformat": 4,
 "nbformat_minor": 5
}
