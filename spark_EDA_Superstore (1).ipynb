{
 "cells": [
  {
   "cell_type": "markdown",
   "id": "c477c46c-f943-457c-8100-a5c211ab6797",
   "metadata": {},
   "source": [
    "# <center> <font color='green'>GRIP :THE SPARKs FOUNDATION</font></center>"
   ]
  },
  {
   "cell_type": "markdown",
   "id": "30992dd4-2d9d-44df-9dba-1d7777ff0e08",
   "metadata": {
    "tags": []
   },
   "source": [
    "# <center><font color='green'>Data Science and Business Analytics Intern</font></center>"
   ]
  },
  {
   "cell_type": "markdown",
   "id": "b1ad748a-0639-417a-9af0-57a72269dc7b",
   "metadata": {},
   "source": [
    "# <center><font color=\"green\">Author : ABHISHEK RAUNIYAR</font></color>"
   ]
  },
  {
   "cell_type": "markdown",
   "id": "8d5d5781-9d42-4a78-ad2e-2a12f50fc4ca",
   "metadata": {},
   "source": [
    "# <center><font color=\"green\">Task (3) :  Prediction Of Areas for Increasing Profit And Analyse The Business Problem</font></color>"
   ]
  },
  {
   "cell_type": "markdown",
   "id": "8f1b7675-95db-47f6-91af-cd9023784fb9",
   "metadata": {},
   "source": [
    "In this task we have to find weak areas of business where we can work to increase profit and also find what business problem occurs."
   ]
  },
  {
   "cell_type": "markdown",
   "id": "386f89da-d7b4-4e04-ad65-588241d01e5a",
   "metadata": {},
   "source": [
    "<center><img src='https://infoguidenigeria.com/wp-content/uploads/2022/12/Duties-of-a-Manager.jpg'></center>"
   ]
  },
  {
   "cell_type": "markdown",
   "id": "eab0caf8-d5d4-4c62-b61b-410e7baf04c9",
   "metadata": {
    "tags": []
   },
   "source": [
    "# TABLE CONTENT\n",
    "1.   [Importing Libarires](#imp)\n",
    "2.   [Read Data Set](#rea)\n",
    "3.   [Cleaning The Data Set](#clea)\n",
    "4.  [Analyse profit and Category Column](#pcc)\n",
    "5.   [Analyse profit and Region Column](#prc)\n",
    "6.   [Analyze Segment and Profit Column ](#psc)\n",
    "7.  [ Analyze Ship Mode and Profit Column](#psmc)\n",
    "8.  [Conclusion](#ccc)"
   ]
  },
  {
   "cell_type": "markdown",
   "id": "e1b95904-7c97-4da1-8cb5-628a51140f2a",
   "metadata": {},
   "source": [
    "# STEP:-1 IMPORTING LIBARIRES<a class='anchor' id='imp'></a>"
   ]
  },
  {
   "cell_type": "code",
   "execution_count": 1,
   "id": "3fbd8123-a8d3-4e06-b356-e51b79936e44",
   "metadata": {
    "tags": []
   },
   "outputs": [],
   "source": [
    "#for handling warnings \n",
    "import warnings\n",
    "warnings.filterwarnings('ignore')\n",
    "\n",
    "# Standard library\n",
    "import numpy as np\n",
    "import pandas as pd \n",
    "\n",
    "# for visualization\n",
    "import matplotlib.pyplot as plt\n",
    "import seaborn as sng"
   ]
  },
  {
   "cell_type": "markdown",
   "id": "c0d21d36-e93a-4156-b5c9-c66eac16b2ec",
   "metadata": {},
   "source": [
    "# STEP:-2 READ DATA SET<a class='anchor' id='rea'></a>"
   ]
  },
  {
   "cell_type": "code",
   "execution_count": 2,
   "id": "06772afb-6234-47c8-9304-222d28700f4e",
   "metadata": {
    "tags": []
   },
   "outputs": [
    {
     "data": {
      "text/html": [
       "<div>\n",
       "<style scoped>\n",
       "    .dataframe tbody tr th:only-of-type {\n",
       "        vertical-align: middle;\n",
       "    }\n",
       "\n",
       "    .dataframe tbody tr th {\n",
       "        vertical-align: top;\n",
       "    }\n",
       "\n",
       "    .dataframe thead th {\n",
       "        text-align: right;\n",
       "    }\n",
       "</style>\n",
       "<table border=\"1\" class=\"dataframe\">\n",
       "  <thead>\n",
       "    <tr style=\"text-align: right;\">\n",
       "      <th></th>\n",
       "      <th>Ship Mode</th>\n",
       "      <th>Segment</th>\n",
       "      <th>Country</th>\n",
       "      <th>City</th>\n",
       "      <th>State</th>\n",
       "      <th>Postal Code</th>\n",
       "      <th>Region</th>\n",
       "      <th>Category</th>\n",
       "      <th>Sub-Category</th>\n",
       "      <th>Sales</th>\n",
       "      <th>Quantity</th>\n",
       "      <th>Discount</th>\n",
       "      <th>Profit</th>\n",
       "    </tr>\n",
       "  </thead>\n",
       "  <tbody>\n",
       "    <tr>\n",
       "      <th>0</th>\n",
       "      <td>Second Class</td>\n",
       "      <td>Consumer</td>\n",
       "      <td>United States</td>\n",
       "      <td>Henderson</td>\n",
       "      <td>Kentucky</td>\n",
       "      <td>42420</td>\n",
       "      <td>South</td>\n",
       "      <td>Furniture</td>\n",
       "      <td>Bookcases</td>\n",
       "      <td>261.9600</td>\n",
       "      <td>2</td>\n",
       "      <td>0.00</td>\n",
       "      <td>41.9136</td>\n",
       "    </tr>\n",
       "    <tr>\n",
       "      <th>1</th>\n",
       "      <td>Second Class</td>\n",
       "      <td>Consumer</td>\n",
       "      <td>United States</td>\n",
       "      <td>Henderson</td>\n",
       "      <td>Kentucky</td>\n",
       "      <td>42420</td>\n",
       "      <td>South</td>\n",
       "      <td>Furniture</td>\n",
       "      <td>Chairs</td>\n",
       "      <td>731.9400</td>\n",
       "      <td>3</td>\n",
       "      <td>0.00</td>\n",
       "      <td>219.5820</td>\n",
       "    </tr>\n",
       "    <tr>\n",
       "      <th>2</th>\n",
       "      <td>Second Class</td>\n",
       "      <td>Corporate</td>\n",
       "      <td>United States</td>\n",
       "      <td>Los Angeles</td>\n",
       "      <td>California</td>\n",
       "      <td>90036</td>\n",
       "      <td>West</td>\n",
       "      <td>Office Supplies</td>\n",
       "      <td>Labels</td>\n",
       "      <td>14.6200</td>\n",
       "      <td>2</td>\n",
       "      <td>0.00</td>\n",
       "      <td>6.8714</td>\n",
       "    </tr>\n",
       "    <tr>\n",
       "      <th>3</th>\n",
       "      <td>Standard Class</td>\n",
       "      <td>Consumer</td>\n",
       "      <td>United States</td>\n",
       "      <td>Fort Lauderdale</td>\n",
       "      <td>Florida</td>\n",
       "      <td>33311</td>\n",
       "      <td>South</td>\n",
       "      <td>Furniture</td>\n",
       "      <td>Tables</td>\n",
       "      <td>957.5775</td>\n",
       "      <td>5</td>\n",
       "      <td>0.45</td>\n",
       "      <td>-383.0310</td>\n",
       "    </tr>\n",
       "    <tr>\n",
       "      <th>4</th>\n",
       "      <td>Standard Class</td>\n",
       "      <td>Consumer</td>\n",
       "      <td>United States</td>\n",
       "      <td>Fort Lauderdale</td>\n",
       "      <td>Florida</td>\n",
       "      <td>33311</td>\n",
       "      <td>South</td>\n",
       "      <td>Office Supplies</td>\n",
       "      <td>Storage</td>\n",
       "      <td>22.3680</td>\n",
       "      <td>2</td>\n",
       "      <td>0.20</td>\n",
       "      <td>2.5164</td>\n",
       "    </tr>\n",
       "  </tbody>\n",
       "</table>\n",
       "</div>"
      ],
      "text/plain": [
       "        Ship Mode    Segment        Country             City       State  \\\n",
       "0    Second Class   Consumer  United States        Henderson    Kentucky   \n",
       "1    Second Class   Consumer  United States        Henderson    Kentucky   \n",
       "2    Second Class  Corporate  United States      Los Angeles  California   \n",
       "3  Standard Class   Consumer  United States  Fort Lauderdale     Florida   \n",
       "4  Standard Class   Consumer  United States  Fort Lauderdale     Florida   \n",
       "\n",
       "   Postal Code Region         Category Sub-Category     Sales  Quantity  \\\n",
       "0        42420  South        Furniture    Bookcases  261.9600         2   \n",
       "1        42420  South        Furniture       Chairs  731.9400         3   \n",
       "2        90036   West  Office Supplies       Labels   14.6200         2   \n",
       "3        33311  South        Furniture       Tables  957.5775         5   \n",
       "4        33311  South  Office Supplies      Storage   22.3680         2   \n",
       "\n",
       "   Discount    Profit  \n",
       "0      0.00   41.9136  \n",
       "1      0.00  219.5820  \n",
       "2      0.00    6.8714  \n",
       "3      0.45 -383.0310  \n",
       "4      0.20    2.5164  "
      ]
     },
     "execution_count": 2,
     "metadata": {},
     "output_type": "execute_result"
    }
   ],
   "source": [
    "# Read data set\n",
    "data=pd.read_csv(\"SampleSuperstore.csv\")\n",
    "data.head()"
   ]
  },
  {
   "cell_type": "code",
   "execution_count": 3,
   "id": "6220fff0-748c-4698-9154-5b80697b2da2",
   "metadata": {
    "tags": []
   },
   "outputs": [
    {
     "name": "stdout",
     "output_type": "stream",
     "text": [
      "Shape of the data set is : (9994, 13)\n"
     ]
    }
   ],
   "source": [
    "## To find number of rows and columns\n",
    "print('Shape of the data set is :',data.shape)"
   ]
  },
  {
   "cell_type": "code",
   "execution_count": 4,
   "id": "640fa719-9fd3-4ac0-9879-98e38b2d3169",
   "metadata": {
    "tags": []
   },
   "outputs": [
    {
     "name": "stdout",
     "output_type": "stream",
     "text": [
      "<class 'pandas.core.frame.DataFrame'>\n",
      "RangeIndex: 9994 entries, 0 to 9993\n",
      "Data columns (total 13 columns):\n",
      " #   Column        Non-Null Count  Dtype  \n",
      "---  ------        --------------  -----  \n",
      " 0   Ship Mode     9994 non-null   object \n",
      " 1   Segment       9994 non-null   object \n",
      " 2   Country       9994 non-null   object \n",
      " 3   City          9994 non-null   object \n",
      " 4   State         9994 non-null   object \n",
      " 5   Postal Code   9994 non-null   int64  \n",
      " 6   Region        9994 non-null   object \n",
      " 7   Category      9994 non-null   object \n",
      " 8   Sub-Category  9994 non-null   object \n",
      " 9   Sales         9994 non-null   float64\n",
      " 10  Quantity      9994 non-null   int64  \n",
      " 11  Discount      9994 non-null   float64\n",
      " 12  Profit        9994 non-null   float64\n",
      "dtypes: float64(3), int64(2), object(8)\n",
      "memory usage: 1015.1+ KB\n"
     ]
    }
   ],
   "source": [
    "#To find information of the data set\n",
    "data.info()"
   ]
  },
  {
   "cell_type": "code",
   "execution_count": 5,
   "id": "5a15ff73-74cb-4d67-bbc8-5c1d3a8971a0",
   "metadata": {
    "tags": []
   },
   "outputs": [
    {
     "data": {
      "text/plain": [
       "Ship Mode       0\n",
       "Segment         0\n",
       "Country         0\n",
       "City            0\n",
       "State           0\n",
       "Postal Code     0\n",
       "Region          0\n",
       "Category        0\n",
       "Sub-Category    0\n",
       "Sales           0\n",
       "Quantity        0\n",
       "Discount        0\n",
       "Profit          0\n",
       "dtype: int64"
      ]
     },
     "execution_count": 5,
     "metadata": {},
     "output_type": "execute_result"
    }
   ],
   "source": [
    "## Checking the null values\n",
    "data.isnull().sum()"
   ]
  },
  {
   "cell_type": "markdown",
   "id": "b96efce6-f306-4fc6-a3f7-333ad370b307",
   "metadata": {},
   "source": [
    "In given data set there is no null values."
   ]
  },
  {
   "cell_type": "code",
   "execution_count": 6,
   "id": "e3ba00d6-f45d-42fc-a258-8cec6e0a6cc0",
   "metadata": {
    "tags": []
   },
   "outputs": [
    {
     "name": "stdout",
     "output_type": "stream",
     "text": [
      "Frequency of each different item in column Ship Mode in given data set:-\n",
      "Ship Mode\n",
      "Standard Class    5968\n",
      "Second Class      1945\n",
      "First Class       1538\n",
      "Same Day           543\n",
      "Name: count, dtype: int64\n",
      "==========================\n",
      "Frequency of each different item in column Segment in given data set:-\n",
      "Segment\n",
      "Consumer       5191\n",
      "Corporate      3020\n",
      "Home Office    1783\n",
      "Name: count, dtype: int64\n",
      "==========================\n",
      "Frequency of each different item in column Country in given data set:-\n",
      "Country\n",
      "United States    9994\n",
      "Name: count, dtype: int64\n",
      "==========================\n",
      "Frequency of each different item in column City in given data set:-\n",
      "City\n",
      "New York City      915\n",
      "Los Angeles        747\n",
      "Philadelphia       537\n",
      "San Francisco      510\n",
      "Seattle            428\n",
      "                  ... \n",
      "Glenview             1\n",
      "Missouri City        1\n",
      "Rochester Hills      1\n",
      "Palatine             1\n",
      "Manhattan            1\n",
      "Name: count, Length: 531, dtype: int64\n",
      "==========================\n",
      "Frequency of each different item in column State in given data set:-\n",
      "State\n",
      "California              2001\n",
      "New York                1128\n",
      "Texas                    985\n",
      "Pennsylvania             587\n",
      "Washington               506\n",
      "Illinois                 492\n",
      "Ohio                     469\n",
      "Florida                  383\n",
      "Michigan                 255\n",
      "North Carolina           249\n",
      "Arizona                  224\n",
      "Virginia                 224\n",
      "Georgia                  184\n",
      "Tennessee                183\n",
      "Colorado                 182\n",
      "Indiana                  149\n",
      "Kentucky                 139\n",
      "Massachusetts            135\n",
      "New Jersey               130\n",
      "Oregon                   124\n",
      "Wisconsin                110\n",
      "Maryland                 105\n",
      "Delaware                  96\n",
      "Minnesota                 89\n",
      "Connecticut               82\n",
      "Oklahoma                  66\n",
      "Missouri                  66\n",
      "Alabama                   61\n",
      "Arkansas                  60\n",
      "Rhode Island              56\n",
      "Utah                      53\n",
      "Mississippi               53\n",
      "Louisiana                 42\n",
      "South Carolina            42\n",
      "Nevada                    39\n",
      "Nebraska                  38\n",
      "New Mexico                37\n",
      "Iowa                      30\n",
      "New Hampshire             27\n",
      "Kansas                    24\n",
      "Idaho                     21\n",
      "Montana                   15\n",
      "South Dakota              12\n",
      "Vermont                   11\n",
      "District of Columbia      10\n",
      "Maine                      8\n",
      "North Dakota               7\n",
      "West Virginia              4\n",
      "Wyoming                    1\n",
      "Name: count, dtype: int64\n",
      "==========================\n",
      "Frequency of each different item in column Postal Code in given data set:-\n",
      "Postal Code\n",
      "10035    263\n",
      "10024    230\n",
      "10009    229\n",
      "94122    203\n",
      "10011    193\n",
      "        ... \n",
      "27534      1\n",
      "53186      1\n",
      "32503      1\n",
      "94509      1\n",
      "63376      1\n",
      "Name: count, Length: 631, dtype: int64\n",
      "==========================\n",
      "Frequency of each different item in column Region in given data set:-\n",
      "Region\n",
      "West       3203\n",
      "East       2848\n",
      "Central    2323\n",
      "South      1620\n",
      "Name: count, dtype: int64\n",
      "==========================\n",
      "Frequency of each different item in column Category in given data set:-\n",
      "Category\n",
      "Office Supplies    6026\n",
      "Furniture          2121\n",
      "Technology         1847\n",
      "Name: count, dtype: int64\n",
      "==========================\n",
      "Frequency of each different item in column Sub-Category in given data set:-\n",
      "Sub-Category\n",
      "Binders        1523\n",
      "Paper          1370\n",
      "Furnishings     957\n",
      "Phones          889\n",
      "Storage         846\n",
      "Art             796\n",
      "Accessories     775\n",
      "Chairs          617\n",
      "Appliances      466\n",
      "Labels          364\n",
      "Tables          319\n",
      "Envelopes       254\n",
      "Bookcases       228\n",
      "Fasteners       217\n",
      "Supplies        190\n",
      "Machines        115\n",
      "Copiers          68\n",
      "Name: count, dtype: int64\n",
      "==========================\n"
     ]
    }
   ],
   "source": [
    "# Now we check in each categorical column how many times each quantity appear in data set.\n",
    "a=data.columns\n",
    "for i in a[0:-4]:\n",
    "    print(\"Frequency of each different item in column {} in given data set:-\".format(i))\n",
    "    print(data[i].value_counts())\n",
    "    print(\"==========================\")"
   ]
  },
  {
   "cell_type": "markdown",
   "id": "61f8da1c-3a24-4a76-8e23-7b206349515e",
   "metadata": {},
   "source": [
    "# Step:-3 Cleaning the data set<a class='anchor' id='clea'></a>"
   ]
  },
  {
   "cell_type": "code",
   "execution_count": 7,
   "id": "9d66095f-fc44-4f29-972c-445bd2ecedc3",
   "metadata": {
    "tags": []
   },
   "outputs": [
    {
     "data": {
      "text/plain": [
       "array(['United States'], dtype=object)"
      ]
     },
     "execution_count": 7,
     "metadata": {},
     "output_type": "execute_result"
    }
   ],
   "source": [
    "# Checking the different country name\n",
    "data[\"Country\"].unique()"
   ]
  },
  {
   "cell_type": "markdown",
   "id": "e8d84f61-6f4f-4ca6-a980-e454120dfedb",
   "metadata": {},
   "source": [
    "The above data set is given for only United-States.\n"
   ]
  },
  {
   "cell_type": "markdown",
   "id": "cb22d54c-bfb4-4d00-b57e-93ea385e957c",
   "metadata": {},
   "source": [
    "Thus we can delete  Country Column from given data set because it not play any role in analyzing the data set."
   ]
  },
  {
   "cell_type": "code",
   "execution_count": 8,
   "id": "d22d7639-5cd7-4604-ad1c-b44f6b7490c9",
   "metadata": {
    "tags": []
   },
   "outputs": [],
   "source": [
    "# Deleting the country column\n",
    "del data[\"Country\"]"
   ]
  },
  {
   "cell_type": "code",
   "execution_count": 9,
   "id": "ae9bb785-ea57-482c-bee0-4d8b428530f1",
   "metadata": {
    "tags": []
   },
   "outputs": [],
   "source": [
    "# Here postal code is unique for each city .\n",
    "# Thus we delete postal code column from given data set . we analyze through city column instead of Postal Code.\n",
    "del data[\"Postal Code\"]"
   ]
  },
  {
   "cell_type": "code",
   "execution_count": 32,
   "id": "213ff0a2-745a-4c5f-8225-861cc11f3f0c",
   "metadata": {
    "tags": []
   },
   "outputs": [
    {
     "data": {
      "text/html": [
       "<div>\n",
       "<style scoped>\n",
       "    .dataframe tbody tr th:only-of-type {\n",
       "        vertical-align: middle;\n",
       "    }\n",
       "\n",
       "    .dataframe tbody tr th {\n",
       "        vertical-align: top;\n",
       "    }\n",
       "\n",
       "    .dataframe thead th {\n",
       "        text-align: right;\n",
       "    }\n",
       "</style>\n",
       "<table border=\"1\" class=\"dataframe\">\n",
       "  <thead>\n",
       "    <tr style=\"text-align: right;\">\n",
       "      <th></th>\n",
       "      <th>Ship Mode</th>\n",
       "      <th>Segment</th>\n",
       "      <th>City</th>\n",
       "      <th>State</th>\n",
       "      <th>Region</th>\n",
       "      <th>Category</th>\n",
       "      <th>Sub-Category</th>\n",
       "      <th>Sales</th>\n",
       "      <th>Quantity</th>\n",
       "      <th>Discount</th>\n",
       "      <th>Profit</th>\n",
       "    </tr>\n",
       "  </thead>\n",
       "  <tbody>\n",
       "    <tr>\n",
       "      <th>0</th>\n",
       "      <td>Second Class</td>\n",
       "      <td>Consumer</td>\n",
       "      <td>Henderson</td>\n",
       "      <td>Kentucky</td>\n",
       "      <td>South</td>\n",
       "      <td>Furniture</td>\n",
       "      <td>Bookcases</td>\n",
       "      <td>261.9600</td>\n",
       "      <td>2</td>\n",
       "      <td>0.00</td>\n",
       "      <td>41.9136</td>\n",
       "    </tr>\n",
       "    <tr>\n",
       "      <th>1</th>\n",
       "      <td>Second Class</td>\n",
       "      <td>Consumer</td>\n",
       "      <td>Henderson</td>\n",
       "      <td>Kentucky</td>\n",
       "      <td>South</td>\n",
       "      <td>Furniture</td>\n",
       "      <td>Chairs</td>\n",
       "      <td>731.9400</td>\n",
       "      <td>3</td>\n",
       "      <td>0.00</td>\n",
       "      <td>219.5820</td>\n",
       "    </tr>\n",
       "    <tr>\n",
       "      <th>2</th>\n",
       "      <td>Second Class</td>\n",
       "      <td>Corporate</td>\n",
       "      <td>Los Angeles</td>\n",
       "      <td>California</td>\n",
       "      <td>West</td>\n",
       "      <td>Office Supplies</td>\n",
       "      <td>Labels</td>\n",
       "      <td>14.6200</td>\n",
       "      <td>2</td>\n",
       "      <td>0.00</td>\n",
       "      <td>6.8714</td>\n",
       "    </tr>\n",
       "    <tr>\n",
       "      <th>3</th>\n",
       "      <td>Standard Class</td>\n",
       "      <td>Consumer</td>\n",
       "      <td>Fort Lauderdale</td>\n",
       "      <td>Florida</td>\n",
       "      <td>South</td>\n",
       "      <td>Furniture</td>\n",
       "      <td>Tables</td>\n",
       "      <td>957.5775</td>\n",
       "      <td>5</td>\n",
       "      <td>0.45</td>\n",
       "      <td>-383.0310</td>\n",
       "    </tr>\n",
       "    <tr>\n",
       "      <th>4</th>\n",
       "      <td>Standard Class</td>\n",
       "      <td>Consumer</td>\n",
       "      <td>Fort Lauderdale</td>\n",
       "      <td>Florida</td>\n",
       "      <td>South</td>\n",
       "      <td>Office Supplies</td>\n",
       "      <td>Storage</td>\n",
       "      <td>22.3680</td>\n",
       "      <td>2</td>\n",
       "      <td>0.20</td>\n",
       "      <td>2.5164</td>\n",
       "    </tr>\n",
       "  </tbody>\n",
       "</table>\n",
       "</div>"
      ],
      "text/plain": [
       "        Ship Mode    Segment             City       State Region  \\\n",
       "0    Second Class   Consumer        Henderson    Kentucky  South   \n",
       "1    Second Class   Consumer        Henderson    Kentucky  South   \n",
       "2    Second Class  Corporate      Los Angeles  California   West   \n",
       "3  Standard Class   Consumer  Fort Lauderdale     Florida  South   \n",
       "4  Standard Class   Consumer  Fort Lauderdale     Florida  South   \n",
       "\n",
       "          Category Sub-Category     Sales  Quantity  Discount    Profit  \n",
       "0        Furniture    Bookcases  261.9600         2      0.00   41.9136  \n",
       "1        Furniture       Chairs  731.9400         3      0.00  219.5820  \n",
       "2  Office Supplies       Labels   14.6200         2      0.00    6.8714  \n",
       "3        Furniture       Tables  957.5775         5      0.45 -383.0310  \n",
       "4  Office Supplies      Storage   22.3680         2      0.20    2.5164  "
      ]
     },
     "execution_count": 32,
     "metadata": {},
     "output_type": "execute_result"
    }
   ],
   "source": [
    "# Read Data set\n",
    "data.head()"
   ]
  },
  {
   "cell_type": "markdown",
   "id": "02d5d37d-8e2e-4a43-b66c-6ecfd3f5eb57",
   "metadata": {
    "tags": []
   },
   "source": [
    "# Step:-4 Analyse profit and Category Column<a class='anchor' id='pcc'></a>"
   ]
  },
  {
   "cell_type": "code",
   "execution_count": 10,
   "id": "311c47a0-a258-442a-9886-874462521d77",
   "metadata": {
    "tags": []
   },
   "outputs": [
    {
     "data": {
      "text/plain": [
       "array(['Furniture', 'Office Supplies', 'Technology'], dtype=object)"
      ]
     },
     "execution_count": 10,
     "metadata": {},
     "output_type": "execute_result"
    }
   ],
   "source": [
    "### Listing the each item in  Category column of the given data-set.\n",
    "data['Category'].unique()"
   ]
  },
  {
   "cell_type": "code",
   "execution_count": 11,
   "id": "150ac893-6f89-4136-86df-725e75d90541",
   "metadata": {
    "tags": []
   },
   "outputs": [
    {
     "data": {
      "text/plain": [
       "['Furniture', 'Office Supplies', 'Technology']"
      ]
     },
     "execution_count": 11,
     "metadata": {},
     "output_type": "execute_result"
    }
   ],
   "source": [
    "### write each item in the from of list name as cs\n",
    "cs=list(data[\"Category\"].unique())\n",
    "cs"
   ]
  },
  {
   "cell_type": "code",
   "execution_count": 12,
   "id": "df8dd76d-53b1-4134-9bb4-6f107e25f0f1",
   "metadata": {
    "tags": []
   },
   "outputs": [
    {
     "name": "stdout",
     "output_type": "stream",
     "text": [
      "for Furniture total profit is 18451.272800000006\n",
      "for Office Supplies total profit is 122490.8008\n",
      "for Technology total profit is 145454.9481\n",
      "Minimum profit gain is 18451.272800000006\n"
     ]
    }
   ],
   "source": [
    "### Find the total profit of each item in Category column of the given data-set.\n",
    "ls=[]      ### creating the empty list name as ls\n",
    "for i in cs:\n",
    "  a=data[data['Category']==i]\n",
    "  print('for',i,'total profit is',a['Profit'].sum())  #### print profit of each item of category column.\n",
    "  ls.append(a['Profit'].sum())    ### here we append the profit in list ls\n",
    "print('Minimum profit gain is',min(ls))    #### print the minimum profit of item."
   ]
  },
  {
   "cell_type": "code",
   "execution_count": 13,
   "id": "409aed25-0db3-4fb4-a236-172c0646145c",
   "metadata": {
    "tags": []
   },
   "outputs": [
    {
     "data": {
      "text/plain": [
       "<Axes: xlabel='Category'>"
      ]
     },
     "execution_count": 13,
     "metadata": {},
     "output_type": "execute_result"
    },
    {
     "data": {
      "image/png": "[encoded data removed]",
      "text/plain": [
       "<Figure size 640x480 with 1 Axes>"
      ]
     },
     "metadata": {},
     "output_type": "display_data"
    }
   ],
   "source": [
    "### Here we visualize profit of each item by bar graph.\n",
    "data.groupby(\"Category\").sum()[\"Profit\"].plot(kind=\"bar\")"
   ]
  },
  {
   "cell_type": "markdown",
   "id": "c79ac356-39de-40f3-954e-e4e27ab8f51a",
   "metadata": {},
   "source": [
    "<font color='green'>From above we conclude we have to work on increasing the sales of Furniture for making more profit."
   ]
  },
  {
   "cell_type": "markdown",
   "id": "86b5cb9f-eb03-4ff9-b933-dc0b5dda8a98",
   "metadata": {},
   "source": [
    "# Step:-5 Analyse Profit and Region Column<a class='anchor' id='prc'></a>"
   ]
  },
  {
   "cell_type": "code",
   "execution_count": 14,
   "id": "cc46bbe4-7804-46cb-a288-0e41688821fd",
   "metadata": {
    "tags": []
   },
   "outputs": [
    {
     "data": {
      "text/plain": [
       "array(['South', 'West', 'Central', 'East'], dtype=object)"
      ]
     },
     "execution_count": 14,
     "metadata": {},
     "output_type": "execute_result"
    }
   ],
   "source": [
    "### Listing the each item in  Region column of the given data-set.\n",
    "data['Region'].unique()"
   ]
  },
  {
   "cell_type": "code",
   "execution_count": 15,
   "id": "d36a09de-bf95-48e3-ae06-49fded0cfafd",
   "metadata": {
    "tags": []
   },
   "outputs": [
    {
     "data": {
      "text/plain": [
       "['South', 'West', 'Central', 'East']"
      ]
     },
     "execution_count": 15,
     "metadata": {},
     "output_type": "execute_result"
    }
   ],
   "source": [
    "### write each item in the from of list name as rs\n",
    "rs=list(data[\"Region\"].unique())\n",
    "rs"
   ]
  },
  {
   "cell_type": "code",
   "execution_count": 16,
   "id": "8c63ede0-8c74-4288-be2f-70c8b2985d38",
   "metadata": {
    "tags": []
   },
   "outputs": [
    {
     "name": "stdout",
     "output_type": "stream",
     "text": [
      "for South total profit is 46749.4303\n",
      "for West total profit is 108418.4489\n",
      "for Central total profit is 39706.3625\n",
      "for East total profit is 91522.78\n",
      "Minimum profit gain is 39706.3625\n"
     ]
    }
   ],
   "source": [
    "### Find the total profit of each item in Region column of the given data-set.\n",
    "ls=[]      ### creating the empty list name as ls\n",
    "for i in rs:\n",
    "  a=data[data['Region']==i]\n",
    "  print('for',i,'total profit is',a['Profit'].sum())  #### print profit of each item of Region column.\n",
    "  ls.append(a['Profit'].sum())    ### here we append the profit in list ls\n",
    "print('Minimum profit gain is',min(ls))    #### print the minimum profit of item."
   ]
  },
  {
   "cell_type": "code",
   "execution_count": 17,
   "id": "e3619580-8eeb-474e-8ab9-1aec73182883",
   "metadata": {
    "tags": []
   },
   "outputs": [
    {
     "data": {
      "text/plain": [
       "<Axes: xlabel='Region'>"
      ]
     },
     "execution_count": 17,
     "metadata": {},
     "output_type": "execute_result"
    },
    {
     "data": {
      "image/png": "[encoded data removed]",
      "text/plain": [
       "<Figure size 640x480 with 1 Axes>"
      ]
     },
     "metadata": {},
     "output_type": "display_data"
    }
   ],
   "source": [
    "### Here we visualize profit of each item by bar graph.\n",
    "data.groupby(\"Region\").sum()[\"Profit\"].plot(kind=\"bar\")"
   ]
  },
  {
   "cell_type": "markdown",
   "id": "0f8ff729-0d86-4789-93a7-a5ecf2ce1248",
   "metadata": {},
   "source": [
    "<font color='green'>From above we conclude we have to work on increasing the sales in central and south area for making more profit."
   ]
  },
  {
   "cell_type": "markdown",
   "id": "76db29c0-7103-403f-aaee-4c11a26f8f8c",
   "metadata": {},
   "source": [
    "Now we find profit of each item of category column in each region of region column."
   ]
  },
  {
   "cell_type": "code",
   "execution_count": 18,
   "id": "582c7a97-5662-419d-bb9d-e0de3db74a36",
   "metadata": {
    "tags": []
   },
   "outputs": [
    {
     "name": "stdout",
     "output_type": "stream",
     "text": [
      "for Furniture profit in different region:-\n",
      "Region\n",
      "Central    -2871.0494\n",
      "East        3046.1658\n",
      "South       6771.2061\n",
      "West       11504.9503\n",
      "Name: Profit, dtype: float64\n",
      "==================================================\n",
      "for Office Supplies profit in different region:-\n",
      "Region\n",
      "Central     8879.9799\n",
      "East       41014.5791\n",
      "South      19986.3928\n",
      "West       52609.8490\n",
      "Name: Profit, dtype: float64\n",
      "==================================================\n",
      "for Technology profit in different region:-\n",
      "Region\n",
      "Central    33697.4320\n",
      "East       47462.0351\n",
      "South      19991.8314\n",
      "West       44303.6496\n",
      "Name: Profit, dtype: float64\n",
      "==================================================\n"
     ]
    }
   ],
   "source": [
    "for i in cs:\n",
    "   print('for',i,'profit in different region:-')\n",
    "   df=data[data['Category']==i]\n",
    "   print(df.groupby('Region').sum()['Profit'])\n",
    "   print('='*50)"
   ]
  },
  {
   "cell_type": "markdown",
   "id": "8870cc38-5013-40f4-bf0e-75cb26235aec",
   "metadata": {},
   "source": [
    "<font color='green'> From here we conclude that he must increase  sales in central region for furniture  for making more profit and also he must do advertisment for the product for increasing sales."
   ]
  },
  {
   "cell_type": "markdown",
   "id": "5c663f95-b3e7-4c1a-961e-ff10baf0070d",
   "metadata": {},
   "source": [
    "<font color=\"green\"> Thus We Conclude:-  First he must increase sales of furniture in central areas."
   ]
  },
  {
   "cell_type": "markdown",
   "id": "341b1f06-bd52-4401-9175-88d274c558ed",
   "metadata": {},
   "source": [
    "# Step:-6 Analyze Segment and Profit Column <a class='anchor' id='psc'>"
   ]
  },
  {
   "cell_type": "code",
   "execution_count": 19,
   "id": "cf6e2b38-cde2-4020-a2be-fe95555a182b",
   "metadata": {
    "tags": []
   },
   "outputs": [
    {
     "data": {
      "text/plain": [
       "array(['Consumer', 'Corporate', 'Home Office'], dtype=object)"
      ]
     },
     "execution_count": 19,
     "metadata": {},
     "output_type": "execute_result"
    }
   ],
   "source": [
    "### Listing the each item in  Segment column of the given data-set.\n",
    "df['Segment'].unique()"
   ]
  },
  {
   "cell_type": "code",
   "execution_count": 20,
   "id": "e31f408a-02c2-444b-b1ac-a9cf7051960d",
   "metadata": {
    "tags": []
   },
   "outputs": [
    {
     "data": {
      "text/plain": [
       "['Consumer', 'Corporate', 'Home Office']"
      ]
     },
     "execution_count": 20,
     "metadata": {},
     "output_type": "execute_result"
    }
   ],
   "source": [
    "### write each item in the from of list name as ss\n",
    "ss=list(data[\"Segment\"].unique())\n",
    "ss"
   ]
  },
  {
   "cell_type": "code",
   "execution_count": 21,
   "id": "451dc12b-3958-4458-86dc-c7ab0aa3125d",
   "metadata": {
    "tags": []
   },
   "outputs": [
    {
     "name": "stdout",
     "output_type": "stream",
     "text": [
      "for Consumer total profit is 134119.2092\n",
      "for Corporate total profit is 91979.13399999999\n",
      "for Home Office total profit is 60298.678499999995\n",
      "Minimum profit gain is 60298.678499999995\n"
     ]
    }
   ],
   "source": [
    "### Find the total profit of each item in Segment column of the given data-set.\n",
    "ls=[]      ### creating the empty list name as ls\n",
    "for i in ss:\n",
    "  a=data[data['Segment']==i]\n",
    "  print('for',i,'total profit is',a['Profit'].sum())  #### print profit of each item of Segment column.\n",
    "  ls.append(a['Profit'].sum())    ### here we append the profit in list ls\n",
    "print('Minimum profit gain is',min(ls))    #### print the minimum profit of item."
   ]
  },
  {
   "cell_type": "code",
   "execution_count": 22,
   "id": "e589fb21-b11d-4fbc-8747-3303ba025187",
   "metadata": {
    "tags": []
   },
   "outputs": [
    {
     "data": {
      "text/plain": [
       "<Axes: xlabel='Segment'>"
      ]
     },
     "execution_count": 22,
     "metadata": {},
     "output_type": "execute_result"
    },
    {
     "data": {
      "image/png": "[encoded data removed]",
      "text/plain": [
       "<Figure size 640x480 with 1 Axes>"
      ]
     },
     "metadata": {},
     "output_type": "display_data"
    }
   ],
   "source": [
    "### Here we visualize profit of each item by bar graph.\n",
    "data.groupby(\"Segment\").sum()['Profit'].plot(kind='bar')"
   ]
  },
  {
   "cell_type": "markdown",
   "id": "84905edb-d25d-4227-8470-5c8c04bc2a5c",
   "metadata": {
    "tags": []
   },
   "source": [
    "Now we find profit of each item of category column in each segment of segment column."
   ]
  },
  {
   "cell_type": "code",
   "execution_count": 23,
   "id": "dbfc0085-8a2e-43db-adef-12c2e93982d9",
   "metadata": {
    "tags": []
   },
   "outputs": [
    {
     "name": "stdout",
     "output_type": "stream",
     "text": [
      "for Furniture profit in different segment:-\n",
      "Segment\n",
      "Consumer       6991.0786\n",
      "Corporate      7584.8158\n",
      "Home Office    3875.3784\n",
      "Name: Profit, dtype: float64\n",
      "===============================\n",
      "for Office Supplies profit in different segment:-\n",
      "Segment\n",
      "Consumer       56330.3210\n",
      "Corporate      40227.3202\n",
      "Home Office    25933.1596\n",
      "Name: Profit, dtype: float64\n",
      "===============================\n",
      "for Technology profit in different segment:-\n",
      "Segment\n",
      "Consumer       70797.8096\n",
      "Corporate      44166.9980\n",
      "Home Office    30490.1405\n",
      "Name: Profit, dtype: float64\n",
      "===============================\n"
     ]
    }
   ],
   "source": [
    "for i in cs:\n",
    "   print('for',i,'profit in different segment:-')\n",
    "   df=data[data['Category']==i]\n",
    "   print(df.groupby('Segment').sum()['Profit'])\n",
    "   print('===============================')"
   ]
  },
  {
   "cell_type": "markdown",
   "id": "571d15da-4f9d-4993-8e77-5aec7eee8daa",
   "metadata": {},
   "source": [
    "Here we observe in all category from home office(refer government department in united kingdom) we get less profit."
   ]
  },
  {
   "cell_type": "code",
   "execution_count": 33,
   "id": "25452c71-fc2f-454d-a433-e2f82442a0c6",
   "metadata": {
    "tags": []
   },
   "outputs": [
    {
     "data": {
      "text/plain": [
       "Segment\n",
       "Consumer       134119.2092\n",
       "Corporate       91979.1340\n",
       "Home Office     60298.6785\n",
       "Name: Profit, dtype: float64"
      ]
     },
     "execution_count": 33,
     "metadata": {},
     "output_type": "execute_result"
    }
   ],
   "source": [
    " ### Find the total profit of each item in Segment column of the given data-set using group by function.\n",
    "data.groupby(\"Segment\").sum()['Profit']"
   ]
  },
  {
   "cell_type": "markdown",
   "id": "c83c70a2-a793-40d4-a4a1-6300ccc4d710",
   "metadata": {},
   "source": [
    "<font color=\"green\"> From here we conclude that he must work on home office segment (which refer government department in united kingdom)  for gaining more profit."
   ]
  },
  {
   "cell_type": "markdown",
   "id": "b014eaac-c5d9-46f5-82f3-401d44859bfb",
   "metadata": {},
   "source": [
    "<font color=\"green\">For this he made some aggrement with government department for the business which comes as a problem in front of business manger."
   ]
  },
  {
   "cell_type": "markdown",
   "id": "dabf3591-2ac0-483b-a4c3-b58de2770a37",
   "metadata": {
    "tags": []
   },
   "source": [
    "<font color=\"green\"> Thus We Conclude:-  We have to increase sales in home office and for this we have to make some contract with government depatment (Home Office)."
   ]
  },
  {
   "cell_type": "markdown",
   "id": "747f8543-26f1-455a-8abc-5ace28c80dab",
   "metadata": {},
   "source": [
    "# Step:-7 Analyze Ship Mode and Profit Column<a class='anchor' id='psmc'>"
   ]
  },
  {
   "cell_type": "code",
   "execution_count": 25,
   "id": "4edb5159-ce7a-4dd6-8cae-5a8c7a6c4ee1",
   "metadata": {
    "tags": []
   },
   "outputs": [
    {
     "data": {
      "text/plain": [
       "array(['Standard Class', 'Second Class', 'First Class', 'Same Day'],\n",
       "      dtype=object)"
      ]
     },
     "execution_count": 25,
     "metadata": {},
     "output_type": "execute_result"
    }
   ],
   "source": [
    "### Listing the each item in  Ship Mode column of the given data-set.\n",
    "df['Ship Mode'].unique()"
   ]
  },
  {
   "cell_type": "code",
   "execution_count": 26,
   "id": "5992c198-147a-4cec-9020-becc002769a8",
   "metadata": {
    "tags": []
   },
   "outputs": [
    {
     "data": {
      "text/plain": [
       "['Second Class', 'Standard Class', 'First Class', 'Same Day']"
      ]
     },
     "execution_count": 26,
     "metadata": {},
     "output_type": "execute_result"
    }
   ],
   "source": [
    "### write each item in the from of list name as sm\n",
    "sm=list(data[\"Ship Mode\"].unique())\n",
    "sm"
   ]
  },
  {
   "cell_type": "code",
   "execution_count": 27,
   "id": "cd021f79-7c6c-43e4-93f9-f67317abc008",
   "metadata": {
    "tags": []
   },
   "outputs": [
    {
     "name": "stdout",
     "output_type": "stream",
     "text": [
      "for Second Class total profit is 57446.63540000001\n",
      "for Standard Class total profit is 164088.7875\n",
      "for First Class total profit is 48969.8399\n",
      "for Same Day total profit is 15891.7589\n",
      "Minimum profit gain is 15891.7589\n"
     ]
    }
   ],
   "source": [
    "### Find the total profit of each item in Ship Mode column of the given data-set.\n",
    "ls=[]      ### creating the empty list name as ls\n",
    "for i in sm:\n",
    "  a=data[data['Ship Mode']==i]\n",
    "  print('for',i,'total profit is',a['Profit'].sum())  #### print profit of each item of Ship Mode column.\n",
    "  ls.append(a['Profit'].sum())    ### here we append the profit in list ls\n",
    "print('Minimum profit gain is',min(ls))    #### print the minimum profit of item."
   ]
  },
  {
   "cell_type": "code",
   "execution_count": 28,
   "id": "9ee51a29-4c55-4080-8373-f345e784681f",
   "metadata": {
    "tags": []
   },
   "outputs": [
    {
     "data": {
      "text/plain": [
       "<Axes: xlabel='Ship Mode'>"
      ]
     },
     "execution_count": 28,
     "metadata": {},
     "output_type": "execute_result"
    },
    {
     "data": {
      "image/png": "[encoded data removed]",
      "text/plain": [
       "<Figure size 640x480 with 1 Axes>"
      ]
     },
     "metadata": {},
     "output_type": "display_data"
    }
   ],
   "source": [
    "### Here we visualize profit of each item by bar graph.\n",
    "data.groupby(\"Ship Mode\").sum()[\"Profit\"].plot(kind=\"bar\")"
   ]
  },
  {
   "cell_type": "code",
   "execution_count": 29,
   "id": "8784bbd9-2593-48ce-a5a8-676e27514059",
   "metadata": {
    "tags": []
   },
   "outputs": [
    {
     "data": {
      "text/plain": [
       "Ship Mode\n",
       "First Class        48969.8399\n",
       "Same Day           15891.7589\n",
       "Second Class       57446.6354\n",
       "Standard Class    164088.7875\n",
       "Name: Profit, dtype: float64"
      ]
     },
     "execution_count": 29,
     "metadata": {},
     "output_type": "execute_result"
    }
   ],
   "source": [
    "data.groupby(\"Ship Mode\").sum()[\"Profit\"]"
   ]
  },
  {
   "cell_type": "code",
   "execution_count": 30,
   "id": "c8a321eb-b476-4ba8-8480-493801d90ef0",
   "metadata": {
    "tags": []
   },
   "outputs": [
    {
     "name": "stdout",
     "output_type": "stream",
     "text": [
      "In Second Class total item deliver is 1945\n",
      "In Standard Class total item deliver is 5968\n",
      "In First Class total item deliver is 1538\n",
      "In Same Day total item deliver is 543\n",
      "Minimum item deliver is 543\n"
     ]
    }
   ],
   "source": [
    "### Find the total no of item in each entity of Ship Mode column of the given data-set.\n",
    "ls=[]      ### creating the empty list name as ls\n",
    "for i in sm:\n",
    "  a=data[data['Ship Mode']==i]\n",
    "  print('In',i,'total item deliver is',a['Ship Mode'].count())  #### print profit of each item of Ship Mode column.\n",
    "  ls.append(a['Ship Mode'].count())    ### here we append the profit in list ls\n",
    "print('Minimum item deliver is',min(ls))    #### print the minimum profit of item."
   ]
  },
  {
   "cell_type": "code",
   "execution_count": 31,
   "id": "74c78374-4f1d-4ca2-9579-1beae179d9bf",
   "metadata": {
    "tags": []
   },
   "outputs": [
    {
     "name": "stdout",
     "output_type": "stream",
     "text": [
      "for Second Class total profit is :29.53554519280206\n",
      "for Standard Class total profit is :27.494770023458447\n",
      "for First Class total profit is :31.839947919375813\n",
      "for Same Day total profit is :29.266590976058932\n"
     ]
    }
   ],
   "source": [
    "### Here we find profit per unit item for each entity in ship mode column.\n",
    "for i in sm:\n",
    "    print('for',i,'total profit is :',end='')\n",
    "    df=data[data['Ship Mode']==i]\n",
    "    print((df['Profit'].sum())/len(df))\n",
    "    "
   ]
  },
  {
   "cell_type": "markdown",
   "id": "0f76faa0-d9f8-45a2-baa0-a293766155f0",
   "metadata": {},
   "source": [
    "<font color='green'>Here we conclude from above data if company have more ship mode in first class then he make more profit."
   ]
  },
  {
   "cell_type": "markdown",
   "id": "c968b1af-b8fa-4ac1-ac8e-4366092bc064",
   "metadata": {},
   "source": [
    "# Step:-8 Conclusion<a class='anchor' id='ccc'>"
   ]
  },
  {
   "cell_type": "markdown",
   "id": "fe35600d-7eb3-4c00-91ee-1a2be988ccf2",
   "metadata": {
    "tags": []
   },
   "source": [
    "#### <font color=\"green\">(1)Finally we conclude for making more profit we have to work on increaing sales of furniture mainly in central region."
   ]
  },
  {
   "cell_type": "markdown",
   "id": "0f91e010-1e36-4863-8669-5851372e4773",
   "metadata": {
    "tags": []
   },
   "source": [
    "#### <font color='green'>(2)For getting more profit he must deliver more item in first class ship mode and also we have to increase number of first class ship mode which comes as a problem for business manger."
   ]
  },
  {
   "cell_type": "markdown",
   "id": "f832ace2-8161-4d47-a3e6-cd9f35bde616",
   "metadata": {},
   "source": [
    "#### <font color='green'>(3)Also for getting more profit we have to increase sales in home office segment for this we have to do some business contract with the concern government department which comes as a problem for business manger."
   ]
  },
  {
   "cell_type": "code",
   "execution_count": null,
   "id": "deb1962a-5c43-44f2-a36c-3bcca9538e54",
   "metadata": {},
   "outputs": [],
   "source": []
  }
 ],
 "metadata": {
  "kernelspec": {
   "display_name": "Python 3 (ipykernel)",
   "language": "python",
   "name": "python3"
  },
  "language_info": {
   "codemirror_mode": {
    "name": "ipython",
    "version": 3
   },
   "file_extension": ".py",
   "mimetype": "text/x-python",
   "name": "python",
   "nbconvert_exporter": "python",
   "pygments_lexer": "ipython3",
   "version": "3.11.3"
  }
 },
 "nbformat": 4,
 "nbformat_minor": 5
}
