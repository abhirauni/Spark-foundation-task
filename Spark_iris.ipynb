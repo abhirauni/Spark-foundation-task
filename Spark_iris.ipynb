{
 "cells": [
  {
   "cell_type": "markdown",
   "id": "e771a391-76da-44c5-b15c-c54ab60a07c2",
   "metadata": {},
   "source": [
    "# <center> <font color='green'>GRIP :THE SPARKs FOUNDATION</font></center>"
   ]
  },
  {
   "cell_type": "markdown",
   "id": "37c039dc-bfdc-4d5f-aa46-1dbdff3f2ac0",
   "metadata": {},
   "source": [
    "# <center> <font color='green'>Data Science and Business Analytics Intern</font></center>"
   ]
  },
  {
   "cell_type": "markdown",
   "id": "e8738506-cf91-46df-a5bc-76ecdbcdd28a",
   "metadata": {},
   "source": [
    "# <center> <font color='green'>Author: ABHISHEK RAUNIYAR</font></center>"
   ]
  },
  {
   "cell_type": "markdown",
   "id": "697a3232-736e-4f09-bfe1-439ab7c09632",
   "metadata": {},
   "source": [
    "# <center> <font color='green'>Task (3) :OPTIMUM NUMBER OF CLUSTERS</font></center>\n",
    "In this task we have to predict the optimum number of clusters for given Iris Data set and visualize it."
   ]
  },
  {
   "cell_type": "markdown",
   "id": "2fbce4f4-43ec-4d4f-9601-5be91042dd72",
   "metadata": {
    "tags": []
   },
   "source": [
    "<center><img src='https://repository-images.githubusercontent.com/158275423/9a32d741-51c7-4573-9799-8d933ee642c6'>"
   ]
  },
  {
   "cell_type": "markdown",
   "id": "b3286fae-079a-42d5-9956-01c76fed8cc2",
   "metadata": {},
   "source": [
    "### Table Content\n",
    "1. [Importing Libarires](#import)\n",
    "\n",
    "2. [Reading Data Set](#rea)\n",
    "3. [Find optimum number of cluster using ELBOW Method](#elb)\n",
    "4. [Dimensional Reduction to 2D](#pca)\n",
    "5. [Visualizing The Cluster ](#visu)\n"
   ]
  },
  {
   "cell_type": "markdown",
   "id": "8dc518ba-aa40-4621-a46e-a32ba8f9bda8",
   "metadata": {},
   "source": [
    "# STEP:1 Importing Libraries<a class='anchor' id='import'></a>"
   ]
  },
  {
   "cell_type": "code",
   "execution_count": 1,
   "id": "e79b88ab-4ae9-4e31-bc80-37e5b46bf6cb",
   "metadata": {
    "tags": []
   },
   "outputs": [],
   "source": [
    "# for handling warnings\n",
    "import warnings\n",
    "warnings.filterwarnings('ignore')\n",
    "\n",
    "## standard libarires\n",
    "import numpy as np\n",
    "import pandas as pd\n",
    "\n",
    "##for visualization\n",
    "import seaborn as sng\n",
    "import matplotlib.pyplot as plt\n",
    " \n",
    "## For Dimension Reduction \n",
    "from sklearn.decomposition import PCA\n",
    "\n",
    "## For Cluster Formation \n",
    "from sklearn.cluster import KMeans\n",
    "\n",
    "\n",
    "    "
   ]
  },
  {
   "cell_type": "markdown",
   "id": "bd280a14-c778-40b1-9f01-6bfe2f8eedfa",
   "metadata": {},
   "source": [
    "# STEP:2 Reading Data Set<a class='anchor' id='rea'></a>"
   ]
  },
  {
   "cell_type": "code",
   "execution_count": 2,
   "id": "adee7898-d114-4129-a26c-c4a6fd109871",
   "metadata": {
    "tags": []
   },
   "outputs": [
    {
     "data": {
      "text/html": [
       "<div>\n",
       "<style scoped>\n",
       "    .dataframe tbody tr th:only-of-type {\n",
       "        vertical-align: middle;\n",
       "    }\n",
       "\n",
       "    .dataframe tbody tr th {\n",
       "        vertical-align: top;\n",
       "    }\n",
       "\n",
       "    .dataframe thead th {\n",
       "        text-align: right;\n",
       "    }\n",
       "</style>\n",
       "<table border=\"1\" class=\"dataframe\">\n",
       "  <thead>\n",
       "    <tr style=\"text-align: right;\">\n",
       "      <th></th>\n",
       "      <th>Id</th>\n",
       "      <th>SepalLengthCm</th>\n",
       "      <th>SepalWidthCm</th>\n",
       "      <th>PetalLengthCm</th>\n",
       "      <th>PetalWidthCm</th>\n",
       "      <th>Species</th>\n",
       "    </tr>\n",
       "  </thead>\n",
       "  <tbody>\n",
       "    <tr>\n",
       "      <th>0</th>\n",
       "      <td>1</td>\n",
       "      <td>5.1</td>\n",
       "      <td>3.5</td>\n",
       "      <td>1.4</td>\n",
       "      <td>0.2</td>\n",
       "      <td>Iris-setosa</td>\n",
       "    </tr>\n",
       "    <tr>\n",
       "      <th>1</th>\n",
       "      <td>2</td>\n",
       "      <td>4.9</td>\n",
       "      <td>3.0</td>\n",
       "      <td>1.4</td>\n",
       "      <td>0.2</td>\n",
       "      <td>Iris-setosa</td>\n",
       "    </tr>\n",
       "    <tr>\n",
       "      <th>2</th>\n",
       "      <td>3</td>\n",
       "      <td>4.7</td>\n",
       "      <td>3.2</td>\n",
       "      <td>1.3</td>\n",
       "      <td>0.2</td>\n",
       "      <td>Iris-setosa</td>\n",
       "    </tr>\n",
       "    <tr>\n",
       "      <th>3</th>\n",
       "      <td>4</td>\n",
       "      <td>4.6</td>\n",
       "      <td>3.1</td>\n",
       "      <td>1.5</td>\n",
       "      <td>0.2</td>\n",
       "      <td>Iris-setosa</td>\n",
       "    </tr>\n",
       "    <tr>\n",
       "      <th>4</th>\n",
       "      <td>5</td>\n",
       "      <td>5.0</td>\n",
       "      <td>3.6</td>\n",
       "      <td>1.4</td>\n",
       "      <td>0.2</td>\n",
       "      <td>Iris-setosa</td>\n",
       "    </tr>\n",
       "  </tbody>\n",
       "</table>\n",
       "</div>"
      ],
      "text/plain": [
       "   Id  SepalLengthCm  SepalWidthCm  PetalLengthCm  PetalWidthCm      Species\n",
       "0   1            5.1           3.5            1.4           0.2  Iris-setosa\n",
       "1   2            4.9           3.0            1.4           0.2  Iris-setosa\n",
       "2   3            4.7           3.2            1.3           0.2  Iris-setosa\n",
       "3   4            4.6           3.1            1.5           0.2  Iris-setosa\n",
       "4   5            5.0           3.6            1.4           0.2  Iris-setosa"
      ]
     },
     "execution_count": 2,
     "metadata": {},
     "output_type": "execute_result"
    }
   ],
   "source": [
    "### Read the data set.\n",
    "df=pd.read_csv(\"Iris.csv\")\n",
    "df.head()"
   ]
  },
  {
   "cell_type": "code",
   "execution_count": 3,
   "id": "ad44bcb5-24f9-4847-aaa1-3dd955a54711",
   "metadata": {
    "tags": []
   },
   "outputs": [
    {
     "name": "stdout",
     "output_type": "stream",
     "text": [
      "Shape of the data-set is: (150, 6)\n"
     ]
    }
   ],
   "source": [
    "### to find the no of rows and column of data set\n",
    "print('Shape of the data-set is:',df.shape)"
   ]
  },
  {
   "cell_type": "code",
   "execution_count": 4,
   "id": "f1be19a7-0cc8-4f2e-b52d-e63b2d9f447b",
   "metadata": {
    "tags": []
   },
   "outputs": [
    {
     "data": {
      "text/plain": [
       "Index(['Id', 'SepalLengthCm', 'SepalWidthCm', 'PetalLengthCm', 'PetalWidthCm',\n",
       "       'Species'],\n",
       "      dtype='object')"
      ]
     },
     "execution_count": 4,
     "metadata": {},
     "output_type": "execute_result"
    }
   ],
   "source": [
    "### Find the name of each column in given data set.\n",
    "df.columns"
   ]
  },
  {
   "cell_type": "code",
   "execution_count": 5,
   "id": "343b71ca-90d0-4c22-af9a-4dc6da384605",
   "metadata": {
    "tags": []
   },
   "outputs": [
    {
     "name": "stdout",
     "output_type": "stream",
     "text": [
      "<class 'pandas.core.frame.DataFrame'>\n",
      "RangeIndex: 150 entries, 0 to 149\n",
      "Data columns (total 6 columns):\n",
      " #   Column         Non-Null Count  Dtype  \n",
      "---  ------         --------------  -----  \n",
      " 0   Id             150 non-null    int64  \n",
      " 1   SepalLengthCm  150 non-null    float64\n",
      " 2   SepalWidthCm   150 non-null    float64\n",
      " 3   PetalLengthCm  150 non-null    float64\n",
      " 4   PetalWidthCm   150 non-null    float64\n",
      " 5   Species        150 non-null    object \n",
      "dtypes: float64(4), int64(1), object(1)\n",
      "memory usage: 7.2+ KB\n"
     ]
    }
   ],
   "source": [
    "# To find  the information of data-set\n",
    "df.info()"
   ]
  },
  {
   "cell_type": "code",
   "execution_count": 6,
   "id": "5514cdb8-8149-4f62-90a2-cfe35ba20818",
   "metadata": {
    "tags": []
   },
   "outputs": [
    {
     "data": {
      "text/plain": [
       "Id               0\n",
       "SepalLengthCm    0\n",
       "SepalWidthCm     0\n",
       "PetalLengthCm    0\n",
       "PetalWidthCm     0\n",
       "Species          0\n",
       "dtype: int64"
      ]
     },
     "execution_count": 6,
     "metadata": {},
     "output_type": "execute_result"
    }
   ],
   "source": [
    "# Checking the null values\n",
    "df.isnull().sum()"
   ]
  },
  {
   "cell_type": "markdown",
   "id": "20c2e6fa-a692-484c-b91a-75673962d1af",
   "metadata": {},
   "source": [
    "#### In given data set there is no null value."
   ]
  },
  {
   "cell_type": "code",
   "execution_count": 7,
   "id": "c3fbcad9-171c-48d7-af80-e86c6faf49c0",
   "metadata": {
    "tags": []
   },
   "outputs": [
    {
     "data": {
      "text/plain": [
       "array(['Iris-setosa', 'Iris-versicolor', 'Iris-virginica'], dtype=object)"
      ]
     },
     "execution_count": 7,
     "metadata": {},
     "output_type": "execute_result"
    }
   ],
   "source": [
    "### Find the name of different item in species column.\n",
    "df[\"Species\"].unique()"
   ]
  },
  {
   "cell_type": "code",
   "execution_count": 8,
   "id": "745e7c57-f81f-43cd-a742-28f2e67e3868",
   "metadata": {
    "tags": []
   },
   "outputs": [
    {
     "data": {
      "text/html": [
       "<div>\n",
       "<style scoped>\n",
       "    .dataframe tbody tr th:only-of-type {\n",
       "        vertical-align: middle;\n",
       "    }\n",
       "\n",
       "    .dataframe tbody tr th {\n",
       "        vertical-align: top;\n",
       "    }\n",
       "\n",
       "    .dataframe thead th {\n",
       "        text-align: right;\n",
       "    }\n",
       "</style>\n",
       "<table border=\"1\" class=\"dataframe\">\n",
       "  <thead>\n",
       "    <tr style=\"text-align: right;\">\n",
       "      <th></th>\n",
       "      <th>Id</th>\n",
       "      <th>SepalLengthCm</th>\n",
       "      <th>SepalWidthCm</th>\n",
       "      <th>PetalLengthCm</th>\n",
       "      <th>PetalWidthCm</th>\n",
       "    </tr>\n",
       "  </thead>\n",
       "  <tbody>\n",
       "    <tr>\n",
       "      <th>0</th>\n",
       "      <td>1</td>\n",
       "      <td>5.1</td>\n",
       "      <td>3.5</td>\n",
       "      <td>1.4</td>\n",
       "      <td>0.2</td>\n",
       "    </tr>\n",
       "    <tr>\n",
       "      <th>1</th>\n",
       "      <td>2</td>\n",
       "      <td>4.9</td>\n",
       "      <td>3.0</td>\n",
       "      <td>1.4</td>\n",
       "      <td>0.2</td>\n",
       "    </tr>\n",
       "    <tr>\n",
       "      <th>2</th>\n",
       "      <td>3</td>\n",
       "      <td>4.7</td>\n",
       "      <td>3.2</td>\n",
       "      <td>1.3</td>\n",
       "      <td>0.2</td>\n",
       "    </tr>\n",
       "    <tr>\n",
       "      <th>3</th>\n",
       "      <td>4</td>\n",
       "      <td>4.6</td>\n",
       "      <td>3.1</td>\n",
       "      <td>1.5</td>\n",
       "      <td>0.2</td>\n",
       "    </tr>\n",
       "    <tr>\n",
       "      <th>4</th>\n",
       "      <td>5</td>\n",
       "      <td>5.0</td>\n",
       "      <td>3.6</td>\n",
       "      <td>1.4</td>\n",
       "      <td>0.2</td>\n",
       "    </tr>\n",
       "    <tr>\n",
       "      <th>...</th>\n",
       "      <td>...</td>\n",
       "      <td>...</td>\n",
       "      <td>...</td>\n",
       "      <td>...</td>\n",
       "      <td>...</td>\n",
       "    </tr>\n",
       "    <tr>\n",
       "      <th>145</th>\n",
       "      <td>146</td>\n",
       "      <td>6.7</td>\n",
       "      <td>3.0</td>\n",
       "      <td>5.2</td>\n",
       "      <td>2.3</td>\n",
       "    </tr>\n",
       "    <tr>\n",
       "      <th>146</th>\n",
       "      <td>147</td>\n",
       "      <td>6.3</td>\n",
       "      <td>2.5</td>\n",
       "      <td>5.0</td>\n",
       "      <td>1.9</td>\n",
       "    </tr>\n",
       "    <tr>\n",
       "      <th>147</th>\n",
       "      <td>148</td>\n",
       "      <td>6.5</td>\n",
       "      <td>3.0</td>\n",
       "      <td>5.2</td>\n",
       "      <td>2.0</td>\n",
       "    </tr>\n",
       "    <tr>\n",
       "      <th>148</th>\n",
       "      <td>149</td>\n",
       "      <td>6.2</td>\n",
       "      <td>3.4</td>\n",
       "      <td>5.4</td>\n",
       "      <td>2.3</td>\n",
       "    </tr>\n",
       "    <tr>\n",
       "      <th>149</th>\n",
       "      <td>150</td>\n",
       "      <td>5.9</td>\n",
       "      <td>3.0</td>\n",
       "      <td>5.1</td>\n",
       "      <td>1.8</td>\n",
       "    </tr>\n",
       "  </tbody>\n",
       "</table>\n",
       "<p>150 rows × 5 columns</p>\n",
       "</div>"
      ],
      "text/plain": [
       "      Id  SepalLengthCm  SepalWidthCm  PetalLengthCm  PetalWidthCm\n",
       "0      1            5.1           3.5            1.4           0.2\n",
       "1      2            4.9           3.0            1.4           0.2\n",
       "2      3            4.7           3.2            1.3           0.2\n",
       "3      4            4.6           3.1            1.5           0.2\n",
       "4      5            5.0           3.6            1.4           0.2\n",
       "..   ...            ...           ...            ...           ...\n",
       "145  146            6.7           3.0            5.2           2.3\n",
       "146  147            6.3           2.5            5.0           1.9\n",
       "147  148            6.5           3.0            5.2           2.0\n",
       "148  149            6.2           3.4            5.4           2.3\n",
       "149  150            5.9           3.0            5.1           1.8\n",
       "\n",
       "[150 rows x 5 columns]"
      ]
     },
     "execution_count": 8,
     "metadata": {},
     "output_type": "execute_result"
    }
   ],
   "source": [
    "df.iloc[:,:-1]"
   ]
  },
  {
   "cell_type": "markdown",
   "id": "19e786a7-3c19-4379-8d78-3635506360fa",
   "metadata": {},
   "source": [
    "# STEP:3 Find optimum number of cluster using ELBOW Method<a class='anchor' id='elb'></a>"
   ]
  },
  {
   "cell_type": "code",
   "execution_count": 9,
   "id": "c84148fd-7216-4d48-8ff8-de748f5b826b",
   "metadata": {
    "tags": []
   },
   "outputs": [],
   "source": [
    "### Creating empty list name as wcss\n",
    "wcss=[]\n",
    "\n",
    "## Here we go through 10 cluster beacuse wcss() is decreases from cluster 1 to so on.\n",
    "for i in range(1,11):\n",
    "    km=KMeans(n_clusters=i)\n",
    "    km.fit(df.iloc[:,1:-1])\n",
    "    wcss.append(km.inertia_)"
   ]
  },
  {
   "cell_type": "code",
   "execution_count": 10,
   "id": "d88b457c-f2c4-4172-bcca-5960fb9b6244",
   "metadata": {
    "tags": []
   },
   "outputs": [
    {
     "data": {
      "text/plain": [
       "[680.8244,\n",
       " 152.36870647733906,\n",
       " 78.94084142614601,\n",
       " 57.34492380952381,\n",
       " 46.535582051282056,\n",
       " 39.197082928891625,\n",
       " 34.421947665056365,\n",
       " 29.993700643559336,\n",
       " 27.91846907272295,\n",
       " 26.111747007894063]"
      ]
     },
     "execution_count": 10,
     "metadata": {},
     "output_type": "execute_result"
    }
   ],
   "source": [
    "## Here we print the value of wcss and we saw wcss decrease from cluster 1 to so on.\n",
    "wcss"
   ]
  },
  {
   "cell_type": "code",
   "execution_count": 11,
   "id": "aa7c433e-7db3-468c-9b6b-41732b8c7441",
   "metadata": {
    "tags": []
   },
   "outputs": [
    {
     "data": {
      "image/png": "[encoded data removed]",
      "text/plain": [
       "<Figure size 1200x600 with 1 Axes>"
      ]
     },
     "metadata": {},
     "output_type": "display_data"
    }
   ],
   "source": [
    "### Here we visualize the decreases value of wcss with cluster and we find the point where elbow occurs.\n",
    "plt.figure(figsize=(12,6))\n",
    "plt.title(\"Elbow Method\")\n",
    "plt.xlabel(\"Number of clusters\")\n",
    "plt.ylabel(\"WCSS\")\n",
    "plt.plot(range(1,11),wcss)\n",
    "plt.show()"
   ]
  },
  {
   "cell_type": "markdown",
   "id": "bb532323-c1a0-457b-90f2-1e0502206b3e",
   "metadata": {
    "tags": []
   },
   "source": [
    "Here by elbow method we get elbow occurs at 3.This is when the within cluster sum of squares (WCSS) doesn't decrease significantly with every iteration.\n"
   ]
  },
  {
   "cell_type": "markdown",
   "id": "cc9e867c-d4c7-4dac-a70e-d5adf8877fd8",
   "metadata": {
    "tags": []
   },
   "source": [
    "Thus optimum number of cluster is 3."
   ]
  },
  {
   "cell_type": "markdown",
   "id": "0c8a0bc4-1c6b-4209-ba12-d3c2476eefd0",
   "metadata": {},
   "source": [
    "# STEP:4 Dimensional Reduction to 2D<a class='anchor' id='pca'></a>"
   ]
  },
  {
   "cell_type": "markdown",
   "id": "6ff38ae6-99f1-4775-a99e-63dbbf4022b0",
   "metadata": {
    "tags": []
   },
   "source": [
    "Here we reduce the dimension of given data-set to 2D .Thus each parameter have its contribution in cluster formation."
   ]
  },
  {
   "cell_type": "code",
   "execution_count": 12,
   "id": "fd5f1313-084b-4cbb-adf5-631d59e2142a",
   "metadata": {
    "tags": []
   },
   "outputs": [],
   "source": [
    "### Applying PCA to the data set\n",
    "x=df.iloc[:,1:-1].values\n",
    "pca=PCA(n_components=2).fit(x).transform(x)"
   ]
  },
  {
   "cell_type": "markdown",
   "id": "e29dbc78-eef7-435a-bd97-db6a710258cd",
   "metadata": {},
   "source": [
    "# STEP:5 Visualization<a class='anchor' id='visu'></a>"
   ]
  },
  {
   "cell_type": "code",
   "execution_count": 13,
   "id": "65b292a6-a6fb-4592-b6a9-fd326e5baaae",
   "metadata": {
    "tags": []
   },
   "outputs": [],
   "source": [
    "# Applying kmeans to the dataset / Creating the kmeans classifier\n",
    "km=KMeans(n_clusters=3,init = 'k-means++',\n",
    "                max_iter = 300, n_init = 10, random_state = 0)\n",
    "y_means=km.fit_predict(pca)\n"
   ]
  },
  {
   "cell_type": "code",
   "execution_count": 14,
   "id": "91fe7c86-6f74-4a61-8483-cfd96f6c6b8f",
   "metadata": {
    "tags": []
   },
   "outputs": [
    {
     "data": {
      "image/png": "[encoded data removed]",
      "text/plain": [
       "<Figure size 800x600 with 1 Axes>"
      ]
     },
     "metadata": {},
     "output_type": "display_data"
    }
   ],
   "source": [
    "###Visualization of the clusters\n",
    "plt.figure(figsize=(8,6))\n",
    "plt.title(\"Clusters Visualization with centroid\")\n",
    "plt.scatter(pca[y_means==0,0],pca[y_means==0,1],s=100,color='blue',label = 'Iris-setosa')\n",
    "plt.scatter(pca[y_means==1,0],pca[y_means==1,1],s=100,color='red',label = 'Iris-versicolour')\n",
    "plt.scatter(pca[y_means==2,0],pca[y_means==2,1],s=100,color='green', label = 'Iris-virginica')\n",
    "\n",
    "##Plotting the centroid of the clusters\n",
    "plt.scatter(km.cluster_centers_[:, 0], km.cluster_centers_[:,1], \n",
    "            s = 100, c = 'black', label = 'Centroids')\n",
    "\n",
    "plt.legend(loc='upper right')\n",
    "plt.show()\n"
   ]
  },
  {
   "cell_type": "code",
   "execution_count": null,
   "id": "ef023ca3-1bec-4e73-abc5-278f0ca7f7ee",
   "metadata": {},
   "outputs": [],
   "source": []
  }
 ],
 "metadata": {
  "kernelspec": {
   "display_name": "Python 3 (ipykernel)",
   "language": "python",
   "name": "python3"
  },
  "language_info": {
   "codemirror_mode": {
    "name": "ipython",
    "version": 3
   },
   "file_extension": ".py",
   "mimetype": "text/x-python",
   "name": "python",
   "nbconvert_exporter": "python",
   "pygments_lexer": "ipython3",
   "version": "3.11.3"
  }
 },
 "nbformat": 4,
 "nbformat_minor": 5
}
